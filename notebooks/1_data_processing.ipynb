{
 "cells": [
  {
   "cell_type": "markdown",
   "metadata": {
    "application/vnd.databricks.v1+cell": {
     "cellMetadata": {
      "byteLimit": 2048000,
      "rowLimit": 10000
     },
     "inputWidgets": {},
     "nuid": "f5b145c1-2d95-4258-9717-93b2a3bfe2ba",
     "showTitle": false,
     "tableResultSettingsMap": {},
     "title": ""
    }
   },
   "source": [
    "# Processamento dos dados"
   ]
  },
  {
   "cell_type": "code",
   "execution_count": 0,
   "metadata": {
    "application/vnd.databricks.v1+cell": {
     "cellMetadata": {
      "byteLimit": 2048000,
      "rowLimit": 10000
     },
     "inputWidgets": {},
     "nuid": "61cdfddc-37e7-4d4b-82a1-87aa00f19aaf",
     "showTitle": true,
     "tableResultSettingsMap": {},
     "title": "imports"
    }
   },
   "outputs": [],
   "source": [
    "from pyspark.sql import functions as F\n",
    "from pyspark.sql import DataFrame\n",
    "from pyspark.sql.window import Window"
   ]
  },
  {
   "cell_type": "code",
   "execution_count": 0,
   "metadata": {
    "application/vnd.databricks.v1+cell": {
     "cellMetadata": {
      "byteLimit": 2048000,
      "rowLimit": 10000
     },
     "inputWidgets": {},
     "nuid": "50c5d2fb-2d71-401e-9a92-a2657970883f",
     "showTitle": true,
     "tableResultSettingsMap": {},
     "title": "Lendo a base de dados"
    }
   },
   "outputs": [],
   "source": [
    "df_offers = spark.read.json('/Volumes/workspace/raw/dados_brutos/offers.json')\n",
    "df_profile = spark.read.json('/Volumes/workspace/raw/dados_brutos/profile.json')\n",
    "df_trans = spark.read.json('/Volumes/workspace/raw/dados_brutos/transactions.json')"
   ]
  },
  {
   "cell_type": "markdown",
   "metadata": {
    "application/vnd.databricks.v1+cell": {
     "cellMetadata": {
      "byteLimit": 2048000,
      "rowLimit": 10000
     },
     "inputWidgets": {},
     "nuid": "67bb89e3-f86d-4f0b-b192-f929901796fa",
     "showTitle": false,
     "tableResultSettingsMap": {},
     "title": ""
    }
   },
   "source": [
    "## "
   ]
  },
  {
   "cell_type": "markdown",
   "metadata": {
    "application/vnd.databricks.v1+cell": {
     "cellMetadata": {
      "byteLimit": 2048000,
      "rowLimit": 10000
     },
     "inputWidgets": {},
     "nuid": "6870d31f-0dd1-449d-beed-bb2ee58bae2d",
     "showTitle": false,
     "tableResultSettingsMap": {},
     "title": ""
    }
   },
   "source": [
    "## Manipulação e limpeza dos dados"
   ]
  },
  {
   "cell_type": "code",
   "execution_count": 0,
   "metadata": {
    "application/vnd.databricks.v1+cell": {
     "cellMetadata": {
      "byteLimit": 2048000,
      "rowLimit": 10000
     },
     "inputWidgets": {},
     "nuid": "dc7ef1eb-e5bf-4332-8efd-96fcd32d49ee",
     "showTitle": true,
     "tableResultSettingsMap": {},
     "title": "Criando funções auxiliares"
    }
   },
   "outputs": [],
   "source": [
    "def verificar_nulos(df: DataFrame) -> DataFrame:\n",
    "\n",
    "    \"\"\"\n",
    "    Função para verificar a quantidade de dados nulos por coluna. \n",
    "    Parâmetros:\n",
    "        df: Spark DataFrame\n",
    "    \"\"\"\n",
    "\n",
    "    df_nulos = df.select([\n",
    "        F.sum(F.col(c).isNull().cast(\"int\")).alias(c)\n",
    "        for c in df.columns\n",
    "    ])\n",
    "\n",
    "    return df_nulos\n",
    "\n",
    "\n",
    "def verificar_duplicatas(df: DataFrame, coluna: str = 'id') -> DataFrame:\n",
    "\n",
    "    \"\"\"\n",
    "    Função para verificar a quantidade de duplicatas assumindo a granularidade id\n",
    "    Parâmetros:\n",
    "        df: Spark DataFrame\n",
    "    \"\"\"\n",
    "\n",
    "    df_duplicatas = df.groupBy(coluna).count().filter(F.col('count') > 1).count()\n",
    "\n",
    "    return df_duplicatas"
   ]
  },
  {
   "cell_type": "markdown",
   "metadata": {
    "application/vnd.databricks.v1+cell": {
     "cellMetadata": {
      "byteLimit": 2048000,
      "rowLimit": 10000
     },
     "inputWidgets": {},
     "nuid": "f1ab615d-8c04-4972-af5c-e149e1adb727",
     "showTitle": false,
     "tableResultSettingsMap": {},
     "title": ""
    }
   },
   "source": [
    "### 1 - Offers"
   ]
  },
  {
   "cell_type": "code",
   "execution_count": 0,
   "metadata": {
    "application/vnd.databricks.v1+cell": {
     "cellMetadata": {
      "byteLimit": 2048000,
      "rowLimit": 10000
     },
     "inputWidgets": {},
     "nuid": "e2d3a613-0bc1-42dc-aa02-1d13948b4aff",
     "showTitle": true,
     "tableResultSettingsMap": {},
     "title": "visualizando o dataframe"
    }
   },
   "outputs": [],
   "source": [
    "df_offers.limit(5).display()"
   ]
  },
  {
   "cell_type": "code",
   "execution_count": 0,
   "metadata": {
    "application/vnd.databricks.v1+cell": {
     "cellMetadata": {
      "byteLimit": 2048000,
      "rowLimit": 10000
     },
     "inputWidgets": {},
     "nuid": "4c08f70f-a973-4d86-9e89-12a7078e961a",
     "showTitle": true,
     "tableResultSettingsMap": {},
     "title": "visualizando o schema"
    }
   },
   "outputs": [],
   "source": [
    "df_offers.printSchema()"
   ]
  },
  {
   "cell_type": "code",
   "execution_count": 0,
   "metadata": {
    "application/vnd.databricks.v1+cell": {
     "cellMetadata": {
      "byteLimit": 2048000,
      "rowLimit": 10000
     },
     "inputWidgets": {},
     "nuid": "b94b8775-2dc4-4e7f-a6e4-a64b9e109a45",
     "showTitle": true,
     "tableResultSettingsMap": {},
     "title": "Quantidade de duplicatas"
    }
   },
   "outputs": [],
   "source": [
    "print(f\"Quantidade de duplicatas: {verificar_duplicatas(df_offers)}\")"
   ]
  },
  {
   "cell_type": "code",
   "execution_count": 0,
   "metadata": {
    "application/vnd.databricks.v1+cell": {
     "cellMetadata": {
      "byteLimit": 2048000,
      "rowLimit": 10000
     },
     "inputWidgets": {},
     "nuid": "92210a93-8ea3-4885-bdb9-68efca91ca6e",
     "showTitle": true,
     "tableResultSettingsMap": {},
     "title": "Quantidade de dados nulos"
    }
   },
   "outputs": [],
   "source": [
    "verificar_nulos(df_offers).display()"
   ]
  },
  {
   "cell_type": "code",
   "execution_count": 0,
   "metadata": {
    "application/vnd.databricks.v1+cell": {
     "cellMetadata": {
      "byteLimit": 2048000,
      "rowLimit": 10000
     },
     "inputWidgets": {},
     "nuid": "6fb9f81f-8a65-43c5-ae6a-a86ccbc40ea9",
     "showTitle": false,
     "tableResultSettingsMap": {},
     "title": ""
    }
   },
   "outputs": [],
   "source": [
    "df_offers.display()"
   ]
  },
  {
   "cell_type": "markdown",
   "metadata": {
    "application/vnd.databricks.v1+cell": {
     "cellMetadata": {
      "byteLimit": 2048000,
      "rowLimit": 10000
     },
     "inputWidgets": {},
     "nuid": "47f71b35-0817-42f2-af93-6230f83d5ac3",
     "showTitle": false,
     "tableResultSettingsMap": {},
     "title": ""
    }
   },
   "source": [
    "### Criando novas colunas"
   ]
  },
  {
   "cell_type": "code",
   "execution_count": 0,
   "metadata": {
    "application/vnd.databricks.v1+cell": {
     "cellMetadata": {
      "byteLimit": 2048000,
      "rowLimit": 10000
     },
     "inputWidgets": {},
     "nuid": "25798f30-bc7c-46fb-8d4b-5259f338d4da",
     "showTitle": false,
     "tableResultSettingsMap": {},
     "title": ""
    }
   },
   "outputs": [],
   "source": [
    "df_offers.describe().display()"
   ]
  },
  {
   "cell_type": "code",
   "execution_count": 0,
   "metadata": {
    "application/vnd.databricks.v1+cell": {
     "cellMetadata": {
      "byteLimit": 2048000,
      "rowLimit": 10000
     },
     "inputWidgets": {},
     "nuid": "a3d850a6-dc71-4106-9700-117081364263",
     "showTitle": true,
     "tableResultSettingsMap": {},
     "title": "Categorizando a duração"
    }
   },
   "outputs": [],
   "source": [
    "offers_transformado = (\n",
    "    df_offers\n",
    "    .withColumn(\n",
    "        \"categoria_duracao\",\n",
    "        F.when(F.col(\"duration\") <= 3, \"curta\")\n",
    "        .when((F.col(\"duration\") > 3) & (F.col(\"duration\") <= 5), \"media\")\n",
    "        .otherwise(\"longa\")\n",
    "    )\n",
    ")\n",
    "\n",
    "offers_transformado.groupBy(F.col('categoria_duracao')).count().display()"
   ]
  },
  {
   "cell_type": "code",
   "execution_count": 0,
   "metadata": {
    "application/vnd.databricks.v1+cell": {
     "cellMetadata": {
      "byteLimit": 2048000,
      "rowLimit": 10000
     },
     "inputWidgets": {},
     "nuid": "0ec84be6-15f5-45cd-8416-83c0a31d1ed6",
     "showTitle": true,
     "tableResultSettingsMap": {},
     "title": "Número de canais utilizados"
    }
   },
   "outputs": [],
   "source": [
    "offers_transformado = (\n",
    "    offers_transformado\n",
    "    .withColumn(\"num_channels\", F.size(F.col(\"channels\")))\n",
    ")\n"
   ]
  },
  {
   "cell_type": "markdown",
   "metadata": {
    "application/vnd.databricks.v1+cell": {
     "cellMetadata": {
      "byteLimit": 2048000,
      "rowLimit": 10000
     },
     "inputWidgets": {},
     "nuid": "fda393d7-e9f0-4953-97f3-89023c130433",
     "showTitle": false,
     "tableResultSettingsMap": {},
     "title": ""
    }
   },
   "source": [
    "Vamos iniciar transformando a coluna `channels`"
   ]
  },
  {
   "cell_type": "code",
   "execution_count": 0,
   "metadata": {
    "application/vnd.databricks.v1+cell": {
     "cellMetadata": {
      "byteLimit": 2048000,
      "rowLimit": 10000
     },
     "inputWidgets": {},
     "nuid": "09b72084-1984-4958-be7e-3a6a5a7255be",
     "showTitle": true,
     "tableResultSettingsMap": {},
     "title": "Transformando a coluna channels"
    }
   },
   "outputs": [],
   "source": [
    "df_explo = offers_transformado.withColumn(\"channel_explo\", F.explode(\"channels\"))\n",
    "\n",
    "df_pivoted = df_explo.groupBy(\"id\") \\\n",
    "                        .pivot(\"channel_explo\") \\\n",
    "                        .agg(F.lit(1)) \\\n",
    "                        .na.fill(0)\n",
    "\n",
    "df_offers_final = offers_transformado.join(df_pivoted, on=\"id\", how=\"left\")"
   ]
  },
  {
   "cell_type": "markdown",
   "metadata": {
    "application/vnd.databricks.v1+cell": {
     "cellMetadata": {
      "byteLimit": 2048000,
      "rowLimit": 10000
     },
     "inputWidgets": {},
     "nuid": "0066dbc6-6e53-489d-b0b2-791e5ac9dd44",
     "showTitle": false,
     "tableResultSettingsMap": {},
     "title": ""
    }
   },
   "source": [
    "### 2 - Profile"
   ]
  },
  {
   "cell_type": "code",
   "execution_count": 0,
   "metadata": {
    "application/vnd.databricks.v1+cell": {
     "cellMetadata": {
      "byteLimit": 2048000,
      "rowLimit": 10000
     },
     "inputWidgets": {},
     "nuid": "e0f28355-68c0-4bad-af90-4d86189c5f8d",
     "showTitle": false,
     "tableResultSettingsMap": {
      "0": {
       "dataGridStateBlob": "{\"version\":1,\"tableState\":{\"columnPinning\":{\"left\":[\"#row_number#\"],\"right\":[]},\"columnSizing\":{\"#row_number#\":52},\"columnVisibility\":{}},\"settings\":{\"columns\":{}},\"syncTimestamp\":1756343562261}",
       "filterBlob": null,
       "queryPlanFiltersBlob": null,
       "tableResultIndex": 0
      }
     },
     "title": ""
    }
   },
   "outputs": [],
   "source": [
    "df_profile.limit(5).display()"
   ]
  },
  {
   "cell_type": "code",
   "execution_count": 0,
   "metadata": {
    "application/vnd.databricks.v1+cell": {
     "cellMetadata": {
      "byteLimit": 2048000,
      "rowLimit": 10000
     },
     "inputWidgets": {},
     "nuid": "66b20334-d933-48cc-b2e1-c73466fb97f3",
     "showTitle": false,
     "tableResultSettingsMap": {},
     "title": ""
    }
   },
   "outputs": [],
   "source": [
    "df_profile.printSchema()"
   ]
  },
  {
   "cell_type": "code",
   "execution_count": 0,
   "metadata": {
    "application/vnd.databricks.v1+cell": {
     "cellMetadata": {
      "byteLimit": 2048000,
      "rowLimit": 10000
     },
     "inputWidgets": {},
     "nuid": "412286f3-4827-4eff-90e2-bcb64041fd93",
     "showTitle": true,
     "tableResultSettingsMap": {},
     "title": "Quantidade de dados nulos"
    }
   },
   "outputs": [],
   "source": [
    "verificar_nulos(df_profile).display()"
   ]
  },
  {
   "cell_type": "markdown",
   "metadata": {
    "application/vnd.databricks.v1+cell": {
     "cellMetadata": {
      "byteLimit": 2048000,
      "rowLimit": 10000
     },
     "inputWidgets": {},
     "nuid": "1fc07dc7-0b80-4f95-9cd6-6b76e548e18c",
     "showTitle": false,
     "tableResultSettingsMap": {},
     "title": ""
    }
   },
   "source": [
    "Vamos verificar se os indices dos valores presentes em `credit_card_limit` são os mesmos de `gender`. Olhando as 5 primeiras linhas, parece que há um padrão que toda vez que a idade é 118, vamos verificar isso. "
   ]
  },
  {
   "cell_type": "code",
   "execution_count": 0,
   "metadata": {
    "application/vnd.databricks.v1+cell": {
     "cellMetadata": {
      "byteLimit": 2048000,
      "rowLimit": 10000
     },
     "inputWidgets": {},
     "nuid": "04574dc3-820c-497a-bad5-f9fe00ee2f2c",
     "showTitle": false,
     "tableResultSettingsMap": {},
     "title": ""
    }
   },
   "outputs": [],
   "source": [
    "qtd_dados_nulos = df_profile.filter(\n",
    "    (F.col(\"age\") == 118) & \n",
    "    (F.col(\"gender\").isNull()) & \n",
    "    (F.col(\"credit_card_limit\").isNull())\n",
    ").count()\n",
    "\n",
    "print(f\" Quantidade de de dados nulos para idade 118 e nulos para gender e credit_card_limit: {qtd_dados_nulos}\")"
   ]
  },
  {
   "cell_type": "markdown",
   "metadata": {
    "application/vnd.databricks.v1+cell": {
     "cellMetadata": {
      "byteLimit": 2048000,
      "rowLimit": 10000
     },
     "inputWidgets": {},
     "nuid": "4914cf29-74fb-418e-ac53-8dd6e6c1fd48",
     "showTitle": false,
     "tableResultSettingsMap": {},
     "title": ""
    }
   },
   "source": [
    "Confirmou-se a suspeita de que todos os dados que aparecem como nulos em `credit_card_limit` e `gender` possuem idade igual a 118. Isso indica que esses registros não representam clientes \"reais\" com cadastro completo.\n",
    "\n",
    "Podemos interpretar esse padrão de diferentes formas:\n",
    "\n",
    "1. **Valores fictícios/teste**: a idade 118 sugere um valor sentinela usado pelo sistema.\n",
    "2. **Cadastro incompleto**: esses usuários podem ter interrompido o processo antes de informar dados pessoais e financeiros.\n",
    "3. **Tratamento de dados ausentes**: em vez de deixar a idade em branco, o sistema pode ter utilizado 118 como um “flag”.\n",
    "\n",
    "Também existem duas possibilidades de tratamento para esses dados:\n",
    "\n",
    "1. **Remover os registros**\n",
    "\n",
    "Se o objetivo é a modelagem preditiva, é necessário trabalhar com dados limpos e realistas, evitando inserções artificiais como a idade 118. Como o percentual de nulos na base é de apenas 12,79%, a remoção desses usuários não comprometerá a amostra.\n",
    "A grande vantagem dessa abordagem é gerar modelos mais consistentes, sem ruídos, além de evitar o enviesamento das estatísticas. A desvantagem, por outro lado, é a perda dessas informações.\n",
    "\n",
    "2. **Tratar como um \"grupo especial\"**\n",
    "\n",
    "Se a pergunta a ser respondida for algo como *“como se comportam os usuários sem informações cadastradas”*, ou se o objetivo for analisar a jornada de perfis incompletos, o melhor tratamento é considerar esses casos como um grupo específico.\n",
    "A principal vantagem é manter a visibilidade desse segmento; já a desvantagem é que ele pode ser apenas “ruído de sistema”, sem representar clientes reais ou comportamentos fidedignos.\n",
    "\n",
    "---\n",
    "\n",
    "**Como nosso objetivo é a modelagem preditiva, seguiremos com a primeira abordagem.**\n",
    "\n",
    "---"
   ]
  },
  {
   "cell_type": "code",
   "execution_count": 0,
   "metadata": {
    "application/vnd.databricks.v1+cell": {
     "cellMetadata": {
      "byteLimit": 2048000,
      "rowLimit": 10000
     },
     "inputWidgets": {},
     "nuid": "45380e40-dbe0-45e2-b28f-2fbddff1e357",
     "showTitle": true,
     "tableResultSettingsMap": {},
     "title": "Percentual da base nula"
    }
   },
   "outputs": [],
   "source": [
    "\n",
    "print(f\"Percentual da base de usuários que é nula: {qtd_dados_nulos/df_profile.count()*100:.2f}%\")"
   ]
  },
  {
   "cell_type": "code",
   "execution_count": 0,
   "metadata": {
    "application/vnd.databricks.v1+cell": {
     "cellMetadata": {
      "byteLimit": 2048000,
      "rowLimit": 10000
     },
     "inputWidgets": {},
     "nuid": "08330d0e-9db0-4b59-8623-d61988eb70eb",
     "showTitle": true,
     "tableResultSettingsMap": {},
     "title": "Dropando dados nulos"
    }
   },
   "outputs": [],
   "source": [
    "df_profile_sn = df_profile.na.drop(subset=['credit_card_limit', 'gender'])"
   ]
  },
  {
   "cell_type": "code",
   "execution_count": 0,
   "metadata": {
    "application/vnd.databricks.v1+cell": {
     "cellMetadata": {
      "byteLimit": 2048000,
      "rowLimit": 10000
     },
     "inputWidgets": {},
     "nuid": "fd7cfc76-fa8a-405a-9f6f-f28288cf1dcd",
     "showTitle": true,
     "tableResultSettingsMap": {},
     "title": "Qtd de nulos após remoção"
    }
   },
   "outputs": [],
   "source": [
    "verificar_nulos(df_profile_sn).display()"
   ]
  },
  {
   "cell_type": "code",
   "execution_count": 0,
   "metadata": {
    "application/vnd.databricks.v1+cell": {
     "cellMetadata": {
      "byteLimit": 2048000,
      "rowLimit": 10000
     },
     "inputWidgets": {},
     "nuid": "4b924b33-f16c-4e6e-889d-120bc8b271f8",
     "showTitle": true,
     "tableResultSettingsMap": {},
     "title": "Transformando a coluna \"registered_on\" para o formato ideal"
    }
   },
   "outputs": [],
   "source": [
    "df_profile_sn = df_profile_sn.withColumn(\"registered_on\", F.to_date(F.col(\"registered_on\"), \"yyyyMMdd\"))"
   ]
  },
  {
   "cell_type": "code",
   "execution_count": 0,
   "metadata": {
    "application/vnd.databricks.v1+cell": {
     "cellMetadata": {
      "byteLimit": 2048000,
      "rowLimit": 10000
     },
     "inputWidgets": {},
     "nuid": "79457bdd-db71-492c-8bad-306a77d49997",
     "showTitle": true,
     "tableResultSettingsMap": {},
     "title": "Verificando se há duplicadas"
    }
   },
   "outputs": [],
   "source": [
    "print(f\"Quantidade de duplicatas: {verificar_duplicatas(df_profile_sn)}\")"
   ]
  },
  {
   "cell_type": "markdown",
   "metadata": {
    "application/vnd.databricks.v1+cell": {
     "cellMetadata": {
      "byteLimit": 2048000,
      "rowLimit": 10000
     },
     "inputWidgets": {},
     "nuid": "51fa398a-9f05-480c-9cf7-55cf7f5d3ed9",
     "showTitle": false,
     "tableResultSettingsMap": {},
     "title": ""
    }
   },
   "source": [
    "### Criando novas colunas"
   ]
  },
  {
   "cell_type": "markdown",
   "metadata": {
    "application/vnd.databricks.v1+cell": {
     "cellMetadata": {
      "byteLimit": 2048000,
      "rowLimit": 10000
     },
     "inputWidgets": {},
     "nuid": "f5500667-aa90-4813-b577-16bf52bb1817",
     "showTitle": false,
     "tableResultSettingsMap": {},
     "title": ""
    }
   },
   "source": [
    "Vamos criar uma coluna que represente o engajamento com a plataforma. A coluna que vamos criar é o **tempo de registro** do usuário."
   ]
  },
  {
   "cell_type": "code",
   "execution_count": 0,
   "metadata": {
    "application/vnd.databricks.v1+cell": {
     "cellMetadata": {
      "byteLimit": 2048000,
      "rowLimit": 10000
     },
     "inputWidgets": {},
     "nuid": "103dfc1d-b2ac-4fbc-ac5c-a7091bd2f71c",
     "showTitle": true,
     "tableResultSettingsMap": {},
     "title": "Criando coluna \"tempo de registro\""
    }
   },
   "outputs": [],
   "source": [
    "df_profile_transformado = df_profile_sn.withColumn(\n",
    "    \"tempo_de_registro\",\n",
    "    F.datediff(F.current_date(), F.col(\"registered_on\"))\n",
    ")\n"
   ]
  },
  {
   "cell_type": "markdown",
   "metadata": {
    "application/vnd.databricks.v1+cell": {
     "cellMetadata": {
      "byteLimit": 2048000,
      "rowLimit": 10000
     },
     "inputWidgets": {},
     "nuid": "be1f520b-d2e2-42eb-ad2f-53f47a85af87",
     "showTitle": false,
     "tableResultSettingsMap": {},
     "title": ""
    }
   },
   "source": [
    "### 3 - Transactions"
   ]
  },
  {
   "cell_type": "code",
   "execution_count": 0,
   "metadata": {
    "application/vnd.databricks.v1+cell": {
     "cellMetadata": {
      "byteLimit": 2048000,
      "rowLimit": 10000
     },
     "inputWidgets": {},
     "nuid": "5525078a-2f3d-4d18-96e3-775cdcdd9528",
     "showTitle": false,
     "tableResultSettingsMap": {
      "0": {
       "dataGridStateBlob": "{\"version\":1,\"tableState\":{\"columnPinning\":{\"left\":[\"#row_number#\"],\"right\":[]},\"columnSizing\":{},\"columnVisibility\":{}},\"settings\":{\"columns\":{}},\"syncTimestamp\":1756350235328}",
       "filterBlob": null,
       "queryPlanFiltersBlob": null,
       "tableResultIndex": 0
      }
     },
     "title": ""
    }
   },
   "outputs": [],
   "source": [
    "df_trans.limit(5).display()"
   ]
  },
  {
   "cell_type": "code",
   "execution_count": 0,
   "metadata": {
    "application/vnd.databricks.v1+cell": {
     "cellMetadata": {
      "byteLimit": 2048000,
      "rowLimit": 10000
     },
     "inputWidgets": {},
     "nuid": "314aabce-82c3-48f2-b0da-2caa5605fd81",
     "showTitle": false,
     "tableResultSettingsMap": {},
     "title": ""
    }
   },
   "outputs": [],
   "source": [
    "df_trans.printSchema()"
   ]
  },
  {
   "cell_type": "code",
   "execution_count": 0,
   "metadata": {
    "application/vnd.databricks.v1+cell": {
     "cellMetadata": {
      "byteLimit": 2048000,
      "rowLimit": 10000
     },
     "inputWidgets": {},
     "nuid": "6727d050-1b13-4641-951c-a188356892d0",
     "showTitle": false,
     "tableResultSettingsMap": {},
     "title": ""
    }
   },
   "outputs": [],
   "source": [
    "colunas_selecionadas = ['account_id', 'event', 'time_since_test_start']\n",
    "\n",
    "df_trans = df_trans.select(\n",
    "    *colunas_selecionadas,\n",
    "    \"value.*\"\n",
    ")"
   ]
  },
  {
   "cell_type": "code",
   "execution_count": 0,
   "metadata": {
    "application/vnd.databricks.v1+cell": {
     "cellMetadata": {
      "byteLimit": 2048000,
      "rowLimit": 10000
     },
     "inputWidgets": {},
     "nuid": "c394ab44-e79d-4c2f-88a2-691437fcd76c",
     "showTitle": false,
     "tableResultSettingsMap": {},
     "title": ""
    }
   },
   "outputs": [],
   "source": [
    "verificar_nulos(df_trans).display()"
   ]
  },
  {
   "cell_type": "markdown",
   "metadata": {
    "application/vnd.databricks.v1+cell": {
     "cellMetadata": {
      "byteLimit": 2048000,
      "rowLimit": 10000
     },
     "inputWidgets": {},
     "nuid": "02c293cb-1615-4250-aaa2-50ffa5064351",
     "showTitle": false,
     "tableResultSettingsMap": {},
     "title": ""
    }
   },
   "source": [
    "Temos duas colunas que parecem carregar o mesmo significado, sendo elas `offer id` e `offer_id`, porém percebe-se que a quantidade de dados nulos em cada uma diferente. Vamos verificar essas colunas com mais calma. \n"
   ]
  },
  {
   "cell_type": "code",
   "execution_count": 0,
   "metadata": {
    "application/vnd.databricks.v1+cell": {
     "cellMetadata": {
      "byteLimit": 2048000,
      "rowLimit": 10000
     },
     "inputWidgets": {},
     "nuid": "a1196df5-498c-403e-9600-59a39b3c8ff7",
     "showTitle": false,
     "tableResultSettingsMap": {},
     "title": ""
    }
   },
   "outputs": [],
   "source": [
    "eh_offerid_nulo = F.col(\"offer id\").isNull()\n",
    "eh_offer_id_nulo = F.col(\"offer_id\").isNull()\n",
    "\n",
    "resumo = df_trans.agg(\n",
    "    F.count('*').alias('total_linhas'),\n",
    "    F.sum(F.when(eh_offerid_nulo & eh_offer_id_nulo, 1).otherwise(0)).alias('ambos_nulos'),\n",
    "    F.sum(F.when(~eh_offerid_nulo & eh_offer_id_nulo, 1).otherwise(0)).alias('apenas_underscore_nulo'),\n",
    "    F.sum(F.when(eh_offerid_nulo & ~eh_offer_id_nulo, 1).otherwise(0)).alias('apenas_espaco_nulo'),\n",
    "    F.sum(F.when(~eh_offerid_nulo & ~eh_offer_id_nulo, 1).otherwise(0)).alias('ambos_nao_nulos')\n",
    "    \n",
    "\n",
    ").first()\n",
    "\n",
    "total_linhas = resumo['total_linhas']\n",
    "ambos_nulos = resumo['ambos_nulos']\n",
    "apenas_underscore_nulo = resumo['apenas_underscore_nulo']\n",
    "apenas_espaco_nulo = resumo['apenas_espaco_nulo']\n",
    "ambos_n_nulos = resumo['ambos_nao_nulos']\n",
    "\n",
    "if total_linhas > 0:\n",
    "    print(\n",
    "        f\"Ambos nulos: {ambos_nulos} / {total_linhas} = {ambos_nulos/total_linhas*100:.2f}%\"\n",
    "    )\n",
    "    print(\n",
    "        f\"Apenas 'offer id' nulo: {apenas_espaco_nulo} / {total_linhas} = {apenas_espaco_nulo/total_linhas*100:.2f}%\"\n",
    "    )\n",
    "    print(\n",
    "        f\"Apenas 'offer_id' nulo: {apenas_underscore_nulo} / {total_linhas} = {apenas_underscore_nulo/total_linhas*100:.2f}%\"\n",
    "    )\n",
    "\n",
    "    print(\n",
    "        f\"Ambos não nulos: {ambos_n_nulos} / {total_linhas} = {ambos_n_nulos/total_linhas*100:.2f}%\"\n",
    "    )\n",
    "else:\n",
    "    print(\"O DataFrame está vazio.\")\n"
   ]
  },
  {
   "cell_type": "markdown",
   "metadata": {
    "application/vnd.databricks.v1+cell": {
     "cellMetadata": {
      "byteLimit": 2048000,
      "rowLimit": 10000
     },
     "inputWidgets": {},
     "nuid": "886430f2-c392-451f-a8e3-ddffe684a22f",
     "showTitle": false,
     "tableResultSettingsMap": {},
     "title": ""
    }
   },
   "source": [
    "Observa-se que quase metade dos registros não tem nenhuma informação de oferta associada, esses registros provavelmente são referentes a **eventos de transação normal**, ou seja, compras feitas sem cupons ou ofertas. \n",
    "\n",
    "Era esperado que as colunas `offer id` e `offer_id` fossem duplicadas, mas a análise mostra que não são. \n",
    "\n",
    "* Há casos em que só `offer id` está preenchido (~11%)\n",
    "\n",
    "* E casos em que só `offer_id` está preenchido (~44%)\n",
    "\n",
    "Indicando que os dados de oferta estão espalhados entre as duas colunas. \n",
    "\n",
    "Outra informação que obtemos é que ambos não nulo é 0%, indicando que nunca houve uma linha com os dois preenchidos ao mesmo tempo, uma ou a outra é usada, mas nunca as duas. Vamos unificar essas colunas posteriormente.\n",
    "\n",
    "Outro detalhe que percebemos é que `reward` possui a mesma quantidade de dados nulos que a coluna `offer_id`, indicando que essas duas colunas possuem certa relação. Vamos analisar essa relação. \n",
    "\n"
   ]
  },
  {
   "cell_type": "code",
   "execution_count": 0,
   "metadata": {
    "application/vnd.databricks.v1+cell": {
     "cellMetadata": {
      "byteLimit": 2048000,
      "rowLimit": 10000
     },
     "inputWidgets": {},
     "nuid": "40cee3bb-7871-42f3-836b-e8a3408886d0",
     "showTitle": true,
     "tableResultSettingsMap": {
      "0": {
       "dataGridStateBlob": "{\"version\":1,\"tableState\":{\"columnPinning\":{\"left\":[\"#row_number#\"],\"right\":[]},\"columnSizing\":{\"origem_offer\":224},\"columnVisibility\":{}},\"settings\":{\"columns\":{}},\"syncTimestamp\":1756350784543}",
       "filterBlob": null,
       "queryPlanFiltersBlob": null,
       "tableResultIndex": 0
      }
     },
     "title": "relação entre offer_id e reward"
    }
   },
   "outputs": [],
   "source": [
    "df_trans.select(\n",
    "    F.when(F.col(\"offer id\").isNotNull(), \"tem_offer_id_espaco\")\n",
    "     .when(F.col(\"offer_id\").isNotNull(), \"tem_offer_id_underscore\")\n",
    "     .otherwise(\"sem_offer\").alias(\"origem_offer\"),\n",
    "    F.when(F.col(\"reward\").isNotNull(), 1).otherwise(0).alias(\"tem_reward\")\n",
    ").groupBy(\"origem_offer\").agg(\n",
    "    F.count(\"*\").alias(\"total\"),\n",
    "    F.sum(\"tem_reward\").alias(\"com_reward\")\n",
    ").display()"
   ]
  },
  {
   "cell_type": "markdown",
   "metadata": {
    "application/vnd.databricks.v1+cell": {
     "cellMetadata": {
      "byteLimit": 2048000,
      "rowLimit": 10000
     },
     "inputWidgets": {},
     "nuid": "e598e1ba-c303-4d56-9bb0-7ba8e2a6daf9",
     "showTitle": false,
     "tableResultSettingsMap": {},
     "title": ""
    }
   },
   "source": [
    "\n",
    "1. **`tem_offer_id_underscore` (33.579 eventos)**\n",
    "\n",
    "   * Todos esses eventos têm **`offer_id`**.\n",
    "   * E **todos eles têm `reward` associado** (33.579/33.579).\n",
    "     Isso significa que **nessa versão do schema, o campo `reward` foi registrado corretamente**.\n",
    "\n",
    "2. **`tem_offer_id_espaco` (134.002 eventos)**\n",
    "\n",
    "   * Todos têm uma oferta vinculada (`offer id`).\n",
    "   * Mas **nenhum deles tem `reward` preenchido**.\n",
    "     Isso indica que quando a ingestão usou a chave `offer id`, a informação de recompensa não veio junto. **Ou seja, há uma perda de informação.**\n",
    "\n",
    "3. **`sem_offer` (138.953 eventos)**\n",
    "\n",
    "   * Eventos que não têm nenhuma oferta associada.\n",
    "   * Naturalmente não têm `reward`.\n",
    "     Faz sentido, pois são **transações normais**, sem cupom.\n",
    "\n",
    "Isso indica que o campo `reward` só é confiável para as ofertas registras em `offer_id`. As ofertas que vieram de `offer id` (atenção para o nome da coluna sem _) ficaram sem `reward`, mesmo quando provavelmente havia uma recompensa. Isso indica uma inconsistência nos dados. Aparentemente duas versões do mesmo campo foram mescladas, mas só uma preservou o reward. "
   ]
  },
  {
   "cell_type": "code",
   "execution_count": 0,
   "metadata": {
    "application/vnd.databricks.v1+cell": {
     "cellMetadata": {
      "byteLimit": 2048000,
      "rowLimit": 10000
     },
     "inputWidgets": {},
     "nuid": "3630bd5d-320a-4be7-b801-26e0ac538d39",
     "showTitle": true,
     "tableResultSettingsMap": {},
     "title": "Unificando offer id e offer_id"
    }
   },
   "outputs": [],
   "source": [
    "df_trans_final = df_trans.withColumn(\n",
    "    \"offer_id_final\",\n",
    "    F.coalesce(F.col(\"offer_id\"), F.col(\"offer id\"))\n",
    ").drop(\"offer_id\", \"offer id\")"
   ]
  },
  {
   "cell_type": "markdown",
   "metadata": {
    "application/vnd.databricks.v1+cell": {
     "cellMetadata": {
      "byteLimit": 2048000,
      "rowLimit": 10000
     },
     "inputWidgets": {},
     "nuid": "fb148086-9a75-4782-97f8-0746a3014f92",
     "showTitle": false,
     "tableResultSettingsMap": {},
     "title": ""
    }
   },
   "source": [
    "A última coluna que faz sentido analisarmos o motivo de vir nulos é `amount`. Na tabela **transactions**, o campo `value` é um dicionário que varia conforme o `event`. Ele pode guardar o valor da compra (`amount`) ou dados da oferta, como o ID da oferta ou o `reward`, que é o valor do desconto obtido.\n",
    "\n",
    "Mas a resposta do motivo de vindo nulo é a própria configuração dos dados. `amount` só faz sentido quando o `event` é *transaction*. Para eventos como *offer received*, *offer viewed* e *offer completed*, `value` trará informações da oferta e não o valor pago; por esse motivo, `amount` vem nulo. Logo, isso não é uma anomalia dos dados, mas um nulo “estrutural”. Assim, manteremos esses nulos.\n"
   ]
  },
  {
   "cell_type": "code",
   "execution_count": 0,
   "metadata": {
    "application/vnd.databricks.v1+cell": {
     "cellMetadata": {
      "byteLimit": 2048000,
      "rowLimit": 10000
     },
     "inputWidgets": {},
     "nuid": "aac302d6-fe89-4ba2-a6d3-9720ab71812a",
     "showTitle": true,
     "tableResultSettingsMap": {},
     "title": "Valores distintos para event"
    }
   },
   "outputs": [],
   "source": [
    "df_trans_final.select('event').distinct().display()"
   ]
  },
  {
   "cell_type": "markdown",
   "metadata": {
    "application/vnd.databricks.v1+cell": {
     "cellMetadata": {
      "byteLimit": 2048000,
      "rowLimit": 10000
     },
     "inputWidgets": {},
     "nuid": "2f188dad-cbc0-4da7-8b52-a27e7e1d6a71",
     "showTitle": false,
     "tableResultSettingsMap": {},
     "title": ""
    }
   },
   "source": [
    "### Transformando a base de transações"
   ]
  },
  {
   "cell_type": "markdown",
   "metadata": {
    "application/vnd.databricks.v1+cell": {
     "cellMetadata": {
      "byteLimit": 2048000,
      "rowLimit": 10000
     },
     "inputWidgets": {},
     "nuid": "0ecc943f-b2dc-4efa-a545-14a9d87a7899",
     "showTitle": false,
     "tableResultSettingsMap": {},
     "title": ""
    }
   },
   "source": [
    "A base de dados `df_trans_final` está estruturada de uma forma que conta a história de um determinado usuário quando recebe uma oferta. Por exemplo o caso abaixo:\n",
    "\n",
    "| account_id                       | event          | time_since_test_start | amount | reward | offer_id_final                     |\n",
    "|----------------------------------|----------------|-----------------------|--------|--------|------------------------------------|\n",
    "| 533342f427824eb59adc4aa9949fe666 | offer received | 0                     | null   | null   | 2906b810c7d4411798c6938adc9daaa5   |\n",
    "| 533342f427824eb59adc4aa9949fe666 | offer viewed   | 1.25                  | null   | null   | 2906b810c7d4411798c6938adc9daaa5   |\n",
    "| 533342f427824eb59adc4aa9949fe666 | transaction    | 2.75                  | 12.36  | null   | null                               |\n",
    "| 533342f427824eb59adc4aa9949fe666 | offer completed| 2.75                  | null   | 2      | 2906b810c7d4411798c6938adc9daaa5   |\n",
    "\n",
    "Esse exemplo, extraído da base de dados, mostra que o usuário recebeu uma oferta, visualizou-a após 1 dia e 6 horas do início do teste e, depois de 2 dias e 18 horas, realizou uma transação que completou os requisitos para receber as recompensas da oferta. Ou seja, ele efetuou transações que atingiram os critérios definidos.\n",
    "\n",
    "Portanto, a base de dados está nos contando uma história. Como nosso objetivo final é desenvolver um modelo que auxilie na decisão de qual oferta enviar para cada cliente, precisamos transformar esses dados em uma estrutura mais adequada para a aplicação dos modelos, além de criar novas variáveis por meio de feature engineering. É exatamente isso que vamos fazer nesta seção.\n"
   ]
  },
  {
   "cell_type": "code",
   "execution_count": 0,
   "metadata": {
    "application/vnd.databricks.v1+cell": {
     "cellMetadata": {
      "byteLimit": 2048000,
      "rowLimit": 10000
     },
     "inputWidgets": {},
     "nuid": "833b08f0-77e2-4680-90c8-eadbc51ca24b",
     "showTitle": false,
     "tableResultSettingsMap": {},
     "title": ""
    }
   },
   "outputs": [],
   "source": [
    "df_trans_final.select('event').distinct().show()"
   ]
  },
  {
   "cell_type": "code",
   "execution_count": 0,
   "metadata": {
    "application/vnd.databricks.v1+cell": {
     "cellMetadata": {
      "byteLimit": 2048000,
      "rowLimit": 10000
     },
     "inputWidgets": {},
     "nuid": "02d41481-c982-476f-836e-9027fd28362c",
     "showTitle": true,
     "tableResultSettingsMap": {},
     "title": "Criar a base de jornadas"
    }
   },
   "outputs": [],
   "source": [
    "# Cada jornada é uma oferta recebida\n",
    "df_jornada = df_trans_final.filter(F.col(\"event\") == \"offer received\") \\\n",
    "    .select(\n",
    "        F.col(\"account_id\"),\n",
    "        F.col(\"offer_id_final\"),\n",
    "        F.col(\"time_since_test_start\").alias(\"receive_time\")\n",
    "    )"
   ]
  },
  {
   "cell_type": "code",
   "execution_count": 0,
   "metadata": {
    "application/vnd.databricks.v1+cell": {
     "cellMetadata": {
      "byteLimit": 2048000,
      "rowLimit": 10000
     },
     "inputWidgets": {},
     "nuid": "5ea16acb-df25-44bf-8735-2d6d87d85058",
     "showTitle": true,
     "tableResultSettingsMap": {},
     "title": "Criando janelas de tempo"
    }
   },
   "outputs": [],
   "source": [
    "janela = Window.partitionBy(\"account_id\").orderBy(\"receive_time\")\n",
    "df_jor_jane = df_jornada.withColumn(\n",
    "    \"fim_jornada\",\n",
    "    F.lead(\"receive_time\").over(janela)\n",
    ")\n",
    "\n",
    "# Encontra todas as jornadas cujo fim_jornada é nulo, ou seja, as últimas jornadas de cada cliente.\n",
    "df_jor_jane = df_jor_jane.na.fill({'fim_jornada': float('inf')})"
   ]
  },
  {
   "cell_type": "code",
   "execution_count": 0,
   "metadata": {
    "application/vnd.databricks.v1+cell": {
     "cellMetadata": {
      "byteLimit": 2048000,
      "rowLimit": 10000
     },
     "inputWidgets": {},
     "nuid": "35857828-5e76-4877-81ba-cb1be504f0c2",
     "showTitle": true,
     "tableResultSettingsMap": {},
     "title": "Atribuindo e agregando as transações"
    }
   },
   "outputs": [],
   "source": [
    "df_transacoes = df_trans_final.filter(F.col(\"event\") == \"transaction\")\n",
    "\n",
    "agg_features_jorn = df_jor_jane.alias(\"j\") \\\n",
    "    .join(\n",
    "        df_transacoes.alias(\"t\"),\n",
    "        on=[\n",
    "            F.col(\"j.account_id\") == F.col(\"t.account_id\"),\n",
    "            (F.col(\"t.time_since_test_start\") >= F.col(\"j.receive_time\")) &\n",
    "            (F.col(\"t.time_since_test_start\") < F.col(\"j.fim_jornada\"))\n",
    "        ],\n",
    "        how=\"left\"\n",
    "    ) \\\n",
    "    .groupBy(\"j.account_id\", \"j.offer_id_final\", \"j.receive_time\") \\\n",
    "    .agg(\n",
    "        F.sum(\"t.amount\").alias(\"valor_gasto_na_jornada\"),\n",
    "        F.count(\"t.amount\").alias(\"qtd_transacoes_na_jornada\"),\n",
    "        F.avg(\"t.amount\").alias(\"ticket_medio_na_jornada\")\n",
    "    )"
   ]
  },
  {
   "cell_type": "code",
   "execution_count": 0,
   "metadata": {
    "application/vnd.databricks.v1+cell": {
     "cellMetadata": {
      "byteLimit": 2048000,
      "rowLimit": 10000
     },
     "inputWidgets": {},
     "nuid": "9b723014-96d2-48cd-84d8-c3d8c9b470e0",
     "showTitle": true,
     "tableResultSettingsMap": {},
     "title": "Mapeando as transações nas janelas corretas"
    }
   },
   "outputs": [],
   "source": [
    "df_eventos_esp = df_trans_final.filter(F.col(\"event\").isin([\"offer viewed\", \"offer completed\"]))\n",
    "\n",
    "eventos_candidatos = df_eventos_esp.alias(\"e\") \\\n",
    "    .join(\n",
    "        df_jornada.alias(\"j\"),\n",
    "        on=[\n",
    "            F.col(\"e.account_id\") == F.col(\"j.account_id\"),\n",
    "            F.col(\"e.offer_id_final\") == F.col(\"j.offer_id_final\"),\n",
    "            F.col(\"e.time_since_test_start\") >= F.col(\"j.receive_time\") # O evento deve ser depois do início da jornada\n",
    "        ],\n",
    "        how=\"inner\"\n",
    "    )\n",
    "\n",
    "# Encontrando a jornada correta, que será considerada a mais recente antes do evento\n",
    "janela_evento = Window.partitionBy(\n",
    "    \"e.account_id\", \"e.offer_id_final\", \"e.time_since_test_start\"\n",
    ").orderBy(F.desc(\"j.receive_time\"))\n",
    "\n",
    "# Rankeando e filtrando pela jornada correta, que no caso é com rank=1\n",
    "df_att_correta = eventos_candidatos.withColumn(\"rank\", F.rank().over(janela_evento)) \\\n",
    "    .filter(F.col(\"rank\") == 1) \\\n",
    "    .select(\n",
    "        F.col(\"j.account_id\"),\n",
    "        F.col(\"j.offer_id_final\"),\n",
    "        F.col(\"j.receive_time\"),\n",
    "        F.col(\"e.event\")\n",
    "    )\n",
    "\n",
    "# Pivotando os eventos para criar as flags\n",
    "flags_eventos = df_att_correta.groupBy(\"account_id\", \"offer_id_final\", \"receive_time\") \\\n",
    "    .pivot(\"event\", [\"offer viewed\", \"offer completed\"]) \\\n",
    "    .agg(F.lit(1)) \\\n",
    "    .na.fill(0) \\\n",
    "    .withColumnRenamed(\"offer completed\", \"target\") \\\n",
    "    .withColumnRenamed(\"offer viewed\", \"offer_viewed\")\n"
   ]
  },
  {
   "cell_type": "code",
   "execution_count": 0,
   "metadata": {
    "application/vnd.databricks.v1+cell": {
     "cellMetadata": {
      "byteLimit": 2048000,
      "rowLimit": 10000
     },
     "inputWidgets": {},
     "nuid": "98d47d6d-00ff-4d6a-99c9-8e992c3e44de",
     "showTitle": true,
     "tableResultSettingsMap": {},
     "title": "Juntando tudo em um DataFrame final"
    }
   },
   "outputs": [],
   "source": [
    "df_final = df_jornada \\\n",
    "    .join(\n",
    "        flags_eventos,\n",
    "        on=[\"account_id\", \"offer_id_final\", \"receive_time\"],\n",
    "        how=\"left\"\n",
    "    ) \\\n",
    "    .join(\n",
    "        agg_features_jorn,\n",
    "        on=[\"account_id\", \"offer_id_final\", \"receive_time\"],\n",
    "        how=\"left\"\n",
    "    )\n",
    "\n",
    "df_final = df_final \\\n",
    "    .withColumn(\"offer_received\", F.lit(1)) \\\n",
    "    .na.fill(0) \\\n",
    "    .orderBy(\"account_id\", \"receive_time\")\n",
    "\n",
    "df_final = df_final.select(\n",
    "    'account_id', 'offer_id_final', 'receive_time', 'target',\n",
    "    'offer_received', 'offer_viewed', 'valor_gasto_na_jornada',\n",
    "    'qtd_transacoes_na_jornada', 'ticket_medio_na_jornada'\n",
    ")"
   ]
  },
  {
   "cell_type": "code",
   "execution_count": 0,
   "metadata": {
    "application/vnd.databricks.v1+cell": {
     "cellMetadata": {
      "byteLimit": 2048000,
      "implicitDf": true,
      "rowLimit": 10000
     },
     "inputWidgets": {},
     "nuid": "9caf018c-5098-4291-a190-208ac1303ca5",
     "showTitle": true,
     "tableResultSettingsMap": {},
     "title": "Exemplo 01"
    }
   },
   "outputs": [],
   "source": [
    "%sql\n",
    "select * from workspace.raw.transacoes\n",
    "where account_id = '3001246acc004275b4a08a37fa8785fd'"
   ]
  },
  {
   "cell_type": "code",
   "execution_count": 0,
   "metadata": {
    "application/vnd.databricks.v1+cell": {
     "cellMetadata": {
      "byteLimit": 2048000,
      "rowLimit": 10000
     },
     "inputWidgets": {},
     "nuid": "cf8479a5-1a30-477e-b6a7-c8416ebbb63e",
     "showTitle": true,
     "tableResultSettingsMap": {
      "0": {
       "dataGridStateBlob": "{\"version\":1,\"tableState\":{\"columnPinning\":{\"left\":[\"#row_number#\"],\"right\":[]},\"columnSizing\":{},\"columnVisibility\":{}},\"settings\":{\"columns\":{}},\"syncTimestamp\":1756775484121}",
       "filterBlob": null,
       "queryPlanFiltersBlob": null,
       "tableResultIndex": 0
      }
     },
     "title": "Exemplo 01"
    }
   },
   "outputs": [],
   "source": [
    "df_final.filter(F.col('account_id')=='3001246acc004275b4a08a37fa8785fd').display()"
   ]
  },
  {
   "cell_type": "code",
   "execution_count": 0,
   "metadata": {
    "application/vnd.databricks.v1+cell": {
     "cellMetadata": {
      "byteLimit": 2048000,
      "implicitDf": true,
      "rowLimit": 10000
     },
     "inputWidgets": {},
     "nuid": "48720034-16e0-409a-b649-053dbf1906a1",
     "showTitle": true,
     "tableResultSettingsMap": {
      "0": {
       "dataGridStateBlob": "{\"version\":1,\"tableState\":{\"columnPinning\":{\"left\":[\"#row_number#\"],\"right\":[]},\"columnSizing\":{\"offer_id_final\":250},\"columnVisibility\":{}},\"settings\":{\"columns\":{}},\"syncTimestamp\":1756777711763}",
       "filterBlob": null,
       "queryPlanFiltersBlob": null,
       "tableResultIndex": 0
      }
     },
     "title": "Exemplo 02"
    }
   },
   "outputs": [],
   "source": [
    "%sql\n",
    "select * from workspace.raw.transacoes\n",
    "where account_id = 'dca5e3cb4b4a4a399933444bc2a1fbd5'"
   ]
  },
  {
   "cell_type": "code",
   "execution_count": 0,
   "metadata": {
    "application/vnd.databricks.v1+cell": {
     "cellMetadata": {
      "byteLimit": 2048000,
      "rowLimit": 10000
     },
     "inputWidgets": {},
     "nuid": "3cc9d081-73da-4ece-8d76-89c037cba501",
     "showTitle": true,
     "tableResultSettingsMap": {},
     "title": "Exemplo 02"
    }
   },
   "outputs": [],
   "source": [
    "df_final.filter(F.col('account_id')=='dca5e3cb4b4a4a399933444bc2a1fbd5').display()"
   ]
  },
  {
   "cell_type": "markdown",
   "metadata": {
    "application/vnd.databricks.v1+cell": {
     "cellMetadata": {
      "byteLimit": 2048000,
      "rowLimit": 10000
     },
     "inputWidgets": {},
     "nuid": "36af88e7-8384-4229-a23c-3cae143a6cf8",
     "showTitle": false,
     "tableResultSettingsMap": {},
     "title": ""
    }
   },
   "source": [
    "As transformações acima já englobam algumas particularidades da base de dados. Por exemplo, há casos em que uma transação se sobrepõe a outra, da seguinte forma:  \n",
    "\n",
    "* Cliente recebeu a oferta 1 -> Cliente visualizou a oferta 1 -> Cliente recebeu a oferta 2 -> Cliente fez uma transação -> Cliente completou a oferta 1  \n",
    "\n",
    "Nesses casos, é considerada a oferta recebida mais recente como início da jornada e para onde vão os valores das transações.  \n",
    "\n",
    "Há também situações em que o cliente recebeu a oferta, não a visualizou e mesmo assim a completou. Esses casos já estão englobados nas transformações, pois consideramos o início da jornada dessa transação independentemente de ele ter visualizado ou não.  \n",
    "\n",
    "A base de dados também contempla todas as ofertas recebidas, pois consideramos o tempo de início da oferta recebida. Dessa forma, é possível visualizar todo o processo da oferta.  \n"
   ]
  },
  {
   "cell_type": "markdown",
   "metadata": {
    "application/vnd.databricks.v1+cell": {
     "cellMetadata": {
      "byteLimit": 2048000,
      "rowLimit": 10000
     },
     "inputWidgets": {},
     "nuid": "97c46e6a-9a11-4493-8227-96fa50b2341c",
     "showTitle": false,
     "tableResultSettingsMap": {},
     "title": ""
    }
   },
   "source": [
    "## Preparação de dataset unificado"
   ]
  },
  {
   "cell_type": "code",
   "execution_count": 0,
   "metadata": {
    "application/vnd.databricks.v1+cell": {
     "cellMetadata": {
      "byteLimit": 2048000,
      "rowLimit": 10000
     },
     "inputWidgets": {},
     "nuid": "c8b8f175-e45c-4300-9e41-d2c5e238066f",
     "showTitle": true,
     "tableResultSettingsMap": {},
     "title": "unificando as bases de dados"
    }
   },
   "outputs": [],
   "source": [
    "df_join = (\n",
    "    df_final\n",
    "    .join(df_profile_transformado, df_final.account_id == df_profile_transformado.id, \"inner\")\n",
    "    .join(df_offers_final, df_final.offer_id_final == df_offers_final.id, \"inner\")\n",
    "    .drop(df_profile_transformado.id)\n",
    "    .drop(df_offers_final.id)\n",
    ")"
   ]
  },
  {
   "cell_type": "code",
   "execution_count": 0,
   "metadata": {
    "application/vnd.databricks.v1+cell": {
     "cellMetadata": {
      "byteLimit": 2048000,
      "rowLimit": 10000
     },
     "inputWidgets": {},
     "nuid": "86638bcc-7bf4-425c-996a-aaaf23c006f6",
     "showTitle": true,
     "tableResultSettingsMap": {},
     "title": "Salvando a base processada"
    }
   },
   "outputs": [],
   "source": [
    "df_join.write.format(\"delta\") \\\n",
    "  .option(\"mergeSchema\", \"true\") \\\n",
    "  .mode(\"overwrite\") \\\n",
    "  .saveAsTable(\"workspace.processed.base_processada\")"
   ]
  }
 ],
 "metadata": {
  "application/vnd.databricks.v1+notebook": {
   "computePreferences": {
    "hardware": {
     "accelerator": null,
     "gpuPoolId": null,
     "memory": null
    }
   },
   "dashboards": [],
   "environmentMetadata": {
    "base_environment": "",
    "environment_version": "3"
   },
   "inputWidgetPreferences": null,
   "language": "python",
   "notebookMetadata": {
    "mostRecentlyExecutedCommandWithImplicitDF": {
     "commandId": 5990017505674796,
     "dataframes": [
      "_sqldf"
     ]
    },
    "pythonIndentUnit": 4
   },
   "notebookName": "1_data_processing",
   "widgets": {}
  },
  "language_info": {
   "name": "python"
  }
 },
 "nbformat": 4,
 "nbformat_minor": 0
}
