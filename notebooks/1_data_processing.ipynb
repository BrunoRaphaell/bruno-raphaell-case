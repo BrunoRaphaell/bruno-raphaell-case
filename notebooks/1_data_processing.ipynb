{
 "cells": [
  {
   "cell_type": "markdown",
   "metadata": {
    "application/vnd.databricks.v1+cell": {
     "cellMetadata": {
      "byteLimit": 2048000,
      "rowLimit": 10000
     },
     "inputWidgets": {},
     "nuid": "f5b145c1-2d95-4258-9717-93b2a3bfe2ba",
     "showTitle": false,
     "tableResultSettingsMap": {},
     "title": ""
    }
   },
   "source": [
    "# Processamento dos dados"
   ]
  },
  {
   "cell_type": "code",
   "execution_count": 0,
   "metadata": {
    "application/vnd.databricks.v1+cell": {
     "cellMetadata": {
      "byteLimit": 2048000,
      "rowLimit": 10000
     },
     "inputWidgets": {},
     "nuid": "61cdfddc-37e7-4d4b-82a1-87aa00f19aaf",
     "showTitle": true,
     "tableResultSettingsMap": {},
     "title": "imports"
    }
   },
   "outputs": [],
   "source": [
    "from pyspark.sql import functions as F\n",
    "from pyspark.sql import DataFrame"
   ]
  },
  {
   "cell_type": "code",
   "execution_count": 0,
   "metadata": {
    "application/vnd.databricks.v1+cell": {
     "cellMetadata": {
      "byteLimit": 2048000,
      "rowLimit": 10000
     },
     "inputWidgets": {},
     "nuid": "50c5d2fb-2d71-401e-9a92-a2657970883f",
     "showTitle": true,
     "tableResultSettingsMap": {},
     "title": "Lendo a base de dados"
    }
   },
   "outputs": [],
   "source": [
    "df_offers = spark.read.json('/Volumes/workspace/raw/dados_brutos/offers.json')\n",
    "df_profile = spark.read.json('/Volumes/workspace/raw/dados_brutos/profile.json')\n",
    "df_trans = spark.read.json('/Volumes/workspace/raw/dados_brutos/transactions.json')"
   ]
  },
  {
   "cell_type": "markdown",
   "metadata": {
    "application/vnd.databricks.v1+cell": {
     "cellMetadata": {
      "byteLimit": 2048000,
      "rowLimit": 10000
     },
     "inputWidgets": {},
     "nuid": "67bb89e3-f86d-4f0b-b192-f929901796fa",
     "showTitle": false,
     "tableResultSettingsMap": {},
     "title": ""
    }
   },
   "source": [
    "## "
   ]
  },
  {
   "cell_type": "markdown",
   "metadata": {
    "application/vnd.databricks.v1+cell": {
     "cellMetadata": {
      "byteLimit": 2048000,
      "rowLimit": 10000
     },
     "inputWidgets": {},
     "nuid": "6870d31f-0dd1-449d-beed-bb2ee58bae2d",
     "showTitle": false,
     "tableResultSettingsMap": {},
     "title": ""
    }
   },
   "source": [
    "## Manipulação e limpeza dos dados"
   ]
  },
  {
   "cell_type": "code",
   "execution_count": 0,
   "metadata": {
    "application/vnd.databricks.v1+cell": {
     "cellMetadata": {
      "byteLimit": 2048000,
      "rowLimit": 10000
     },
     "inputWidgets": {},
     "nuid": "dc7ef1eb-e5bf-4332-8efd-96fcd32d49ee",
     "showTitle": true,
     "tableResultSettingsMap": {},
     "title": "Criando funções auxiliares"
    }
   },
   "outputs": [],
   "source": [
    "def verificar_nulos(df: DataFrame) -> DataFrame:\n",
    "\n",
    "    \"\"\"\n",
    "    Função para verificar a quantidade de dados nulos por coluna. \n",
    "    Parâmetros:\n",
    "        df: Spark DataFrame\n",
    "    \"\"\"\n",
    "\n",
    "    df_nulos = df.select([\n",
    "        F.sum(F.col(c).isNull().cast(\"int\")).alias(c)\n",
    "        for c in df.columns\n",
    "    ])\n",
    "\n",
    "    return df_nulos\n",
    "\n",
    "\n",
    "def verificar_duplicatas(df: DataFrame, coluna: str = 'id') -> DataFrame:\n",
    "\n",
    "    \"\"\"\n",
    "    Função para verificar a quantidade de duplicatas assumindo a granularidade id\n",
    "    Parâmetros:\n",
    "        df: Spark DataFrame\n",
    "    \"\"\"\n",
    "\n",
    "    df_duplicatas = df.groupBy(coluna).count().filter(F.col('count') > 1).count()\n",
    "\n",
    "    return df_duplicatas"
   ]
  },
  {
   "cell_type": "markdown",
   "metadata": {
    "application/vnd.databricks.v1+cell": {
     "cellMetadata": {
      "byteLimit": 2048000,
      "rowLimit": 10000
     },
     "inputWidgets": {},
     "nuid": "f1ab615d-8c04-4972-af5c-e149e1adb727",
     "showTitle": false,
     "tableResultSettingsMap": {},
     "title": ""
    }
   },
   "source": [
    "### 1 - Offers"
   ]
  },
  {
   "cell_type": "code",
   "execution_count": 0,
   "metadata": {
    "application/vnd.databricks.v1+cell": {
     "cellMetadata": {
      "byteLimit": 2048000,
      "rowLimit": 10000
     },
     "inputWidgets": {},
     "nuid": "e2d3a613-0bc1-42dc-aa02-1d13948b4aff",
     "showTitle": false,
     "tableResultSettingsMap": {},
     "title": ""
    }
   },
   "outputs": [],
   "source": [
    "df_offers.limit(5).display()"
   ]
  },
  {
   "cell_type": "code",
   "execution_count": 0,
   "metadata": {
    "application/vnd.databricks.v1+cell": {
     "cellMetadata": {
      "byteLimit": 2048000,
      "rowLimit": 10000
     },
     "inputWidgets": {},
     "nuid": "4c08f70f-a973-4d86-9e89-12a7078e961a",
     "showTitle": false,
     "tableResultSettingsMap": {},
     "title": ""
    }
   },
   "outputs": [],
   "source": [
    "df_offers.printSchema()"
   ]
  },
  {
   "cell_type": "code",
   "execution_count": 0,
   "metadata": {
    "application/vnd.databricks.v1+cell": {
     "cellMetadata": {
      "byteLimit": 2048000,
      "rowLimit": 10000
     },
     "inputWidgets": {},
     "nuid": "b94b8775-2dc4-4e7f-a6e4-a64b9e109a45",
     "showTitle": true,
     "tableResultSettingsMap": {},
     "title": "Quantidade de duplicatas"
    }
   },
   "outputs": [],
   "source": [
    "print(f\"Quantidade de duplicatas: {verificar_duplicatas(df_offers)}\")"
   ]
  },
  {
   "cell_type": "code",
   "execution_count": 0,
   "metadata": {
    "application/vnd.databricks.v1+cell": {
     "cellMetadata": {
      "byteLimit": 2048000,
      "rowLimit": 10000
     },
     "inputWidgets": {},
     "nuid": "92210a93-8ea3-4885-bdb9-68efca91ca6e",
     "showTitle": true,
     "tableResultSettingsMap": {},
     "title": "Quantidade de dados nulos"
    }
   },
   "outputs": [],
   "source": [
    "verificar_nulos(df_offers).display()"
   ]
  },
  {
   "cell_type": "markdown",
   "metadata": {
    "application/vnd.databricks.v1+cell": {
     "cellMetadata": {
      "byteLimit": 2048000,
      "rowLimit": 10000
     },
     "inputWidgets": {},
     "nuid": "0066dbc6-6e53-489d-b0b2-791e5ac9dd44",
     "showTitle": false,
     "tableResultSettingsMap": {},
     "title": ""
    }
   },
   "source": [
    "### 2 - Profile"
   ]
  },
  {
   "cell_type": "code",
   "execution_count": 0,
   "metadata": {
    "application/vnd.databricks.v1+cell": {
     "cellMetadata": {
      "byteLimit": 2048000,
      "rowLimit": 10000
     },
     "inputWidgets": {},
     "nuid": "e0f28355-68c0-4bad-af90-4d86189c5f8d",
     "showTitle": false,
     "tableResultSettingsMap": {
      "0": {
       "dataGridStateBlob": "{\"version\":1,\"tableState\":{\"columnPinning\":{\"left\":[\"#row_number#\"],\"right\":[]},\"columnSizing\":{\"#row_number#\":52},\"columnVisibility\":{}},\"settings\":{\"columns\":{}},\"syncTimestamp\":1756343562261}",
       "filterBlob": null,
       "queryPlanFiltersBlob": null,
       "tableResultIndex": 0
      }
     },
     "title": ""
    }
   },
   "outputs": [],
   "source": [
    "df_profile.limit(5).display()"
   ]
  },
  {
   "cell_type": "code",
   "execution_count": 0,
   "metadata": {
    "application/vnd.databricks.v1+cell": {
     "cellMetadata": {
      "byteLimit": 2048000,
      "rowLimit": 10000
     },
     "inputWidgets": {},
     "nuid": "66b20334-d933-48cc-b2e1-c73466fb97f3",
     "showTitle": false,
     "tableResultSettingsMap": {},
     "title": ""
    }
   },
   "outputs": [],
   "source": [
    "df_profile.printSchema()"
   ]
  },
  {
   "cell_type": "code",
   "execution_count": 0,
   "metadata": {
    "application/vnd.databricks.v1+cell": {
     "cellMetadata": {
      "byteLimit": 2048000,
      "rowLimit": 10000
     },
     "inputWidgets": {},
     "nuid": "412286f3-4827-4eff-90e2-bcb64041fd93",
     "showTitle": true,
     "tableResultSettingsMap": {},
     "title": "Quantidade de dados nulos"
    }
   },
   "outputs": [],
   "source": [
    "verificar_nulos(df_profile).display()"
   ]
  },
  {
   "cell_type": "markdown",
   "metadata": {
    "application/vnd.databricks.v1+cell": {
     "cellMetadata": {
      "byteLimit": 2048000,
      "rowLimit": 10000
     },
     "inputWidgets": {},
     "nuid": "1fc07dc7-0b80-4f95-9cd6-6b76e548e18c",
     "showTitle": false,
     "tableResultSettingsMap": {},
     "title": ""
    }
   },
   "source": [
    "Vamos verificar se os indices dos valores presentes em `credit_card_limit` são os mesmos de `gender`. Olhando as 5 primeiras linhas, parece que há um padrão que toda vez que a idade é 118, vamos verificar isso. "
   ]
  },
  {
   "cell_type": "code",
   "execution_count": 0,
   "metadata": {
    "application/vnd.databricks.v1+cell": {
     "cellMetadata": {
      "byteLimit": 2048000,
      "rowLimit": 10000
     },
     "inputWidgets": {},
     "nuid": "04574dc3-820c-497a-bad5-f9fe00ee2f2c",
     "showTitle": false,
     "tableResultSettingsMap": {},
     "title": ""
    }
   },
   "outputs": [],
   "source": [
    "qtd_dados_nulos = df_profile.filter(\n",
    "    (F.col(\"age\") == 118) & \n",
    "    (F.col(\"gender\").isNull()) & \n",
    "    (F.col(\"credit_card_limit\").isNull())\n",
    ").count()\n",
    "\n",
    "print(f\" Quantidade de de dados nulos para idade 118 e nulos para gender e credit_card_limit: {qtd_dados_nulos}\")"
   ]
  },
  {
   "cell_type": "markdown",
   "metadata": {
    "application/vnd.databricks.v1+cell": {
     "cellMetadata": {},
     "inputWidgets": {},
     "nuid": "4914cf29-74fb-418e-ac53-8dd6e6c1fd48",
     "showTitle": false,
     "tableResultSettingsMap": {},
     "title": ""
    }
   },
   "source": [
    "Confirmada a suspeita de que todos os dados que aparecem nulo `credit_card_limit` e `gender` possui idade 118. "
   ]
  },
  {
   "cell_type": "code",
   "execution_count": 0,
   "metadata": {
    "application/vnd.databricks.v1+cell": {
     "cellMetadata": {
      "byteLimit": 2048000,
      "rowLimit": 10000
     },
     "inputWidgets": {},
     "nuid": "45380e40-dbe0-45e2-b28f-2fbddff1e357",
     "showTitle": true,
     "tableResultSettingsMap": {},
     "title": "Percentual da base nula"
    }
   },
   "outputs": [],
   "source": [
    "\n",
    "print(f\"Percentual da base de usuários que é nula: {qtd_dados_nulos/df_profile.count()*100:.2f}%\")"
   ]
  },
  {
   "cell_type": "code",
   "execution_count": 0,
   "metadata": {
    "application/vnd.databricks.v1+cell": {
     "cellMetadata": {
      "byteLimit": 2048000,
      "rowLimit": 10000
     },
     "inputWidgets": {},
     "nuid": "8bdcf2ad-b2ec-4819-9cc3-55588997dce0",
     "showTitle": true,
     "tableResultSettingsMap": {},
     "title": "Verificando se são as mesmas amostras nulas"
    }
   },
   "outputs": [],
   "source": [
    "gender_null = F.col(\"gender\").isNull()\n",
    "limit_null  = F.col(\"credit_card_limit\").isNull()\n",
    "\n",
    "nulo_ambos = df_profile.filter(gender_null & limit_null).count()\n",
    "\n",
    "print(f'Quantidade de linhas com ambos os campos nulos: {nulo_ambos}')"
   ]
  },
  {
   "cell_type": "markdown",
   "metadata": {
    "application/vnd.databricks.v1+cell": {
     "cellMetadata": {
      "byteLimit": 2048000,
      "rowLimit": 10000
     },
     "inputWidgets": {},
     "nuid": "b9976ba3-fde2-439c-b04b-84e3e139b237",
     "showTitle": false,
     "tableResultSettingsMap": {},
     "title": ""
    }
   },
   "source": [
    "Portando todos os dados que estão nulos em `gender` também estão nulos em `credit_card_limit`\n"
   ]
  },
  {
   "cell_type": "code",
   "execution_count": 0,
   "metadata": {
    "application/vnd.databricks.v1+cell": {
     "cellMetadata": {
      "byteLimit": 2048000,
      "rowLimit": 10000
     },
     "inputWidgets": {},
     "nuid": "4b924b33-f16c-4e6e-889d-120bc8b271f8",
     "showTitle": true,
     "tableResultSettingsMap": {},
     "title": "Transformando a coluna \"registered_on\" para o formato ideal"
    }
   },
   "outputs": [],
   "source": [
    "df_profile = df_profile.withColumn(\"registered_on\", F.to_date(F.col(\"registered_on\"), \"yyyyMMdd\"))"
   ]
  },
  {
   "cell_type": "code",
   "execution_count": 0,
   "metadata": {
    "application/vnd.databricks.v1+cell": {
     "cellMetadata": {
      "byteLimit": 2048000,
      "rowLimit": 10000
     },
     "inputWidgets": {},
     "nuid": "79457bdd-db71-492c-8bad-306a77d49997",
     "showTitle": true,
     "tableResultSettingsMap": {},
     "title": "Verificando se há duplicadas"
    }
   },
   "outputs": [],
   "source": [
    "print(f\"Quantidade de duplicatas: {verificar_duplicatas(df_profile)}\")"
   ]
  },
  {
   "cell_type": "markdown",
   "metadata": {
    "application/vnd.databricks.v1+cell": {
     "cellMetadata": {
      "byteLimit": 2048000,
      "rowLimit": 10000
     },
     "inputWidgets": {},
     "nuid": "be1f520b-d2e2-42eb-ad2f-53f47a85af87",
     "showTitle": false,
     "tableResultSettingsMap": {},
     "title": ""
    }
   },
   "source": [
    "### 3 - Transactions"
   ]
  },
  {
   "cell_type": "code",
   "execution_count": 0,
   "metadata": {
    "application/vnd.databricks.v1+cell": {
     "cellMetadata": {
      "byteLimit": 2048000,
      "rowLimit": 10000
     },
     "inputWidgets": {},
     "nuid": "5525078a-2f3d-4d18-96e3-775cdcdd9528",
     "showTitle": false,
     "tableResultSettingsMap": {
      "0": {
       "dataGridStateBlob": "{\"version\":1,\"tableState\":{\"columnPinning\":{\"left\":[\"#row_number#\"],\"right\":[]},\"columnSizing\":{},\"columnVisibility\":{}},\"settings\":{\"columns\":{}},\"syncTimestamp\":1756350235328}",
       "filterBlob": null,
       "queryPlanFiltersBlob": null,
       "tableResultIndex": 0
      }
     },
     "title": ""
    }
   },
   "outputs": [],
   "source": [
    "df_trans.limit(5).display()"
   ]
  },
  {
   "cell_type": "code",
   "execution_count": 0,
   "metadata": {
    "application/vnd.databricks.v1+cell": {
     "cellMetadata": {
      "byteLimit": 2048000,
      "rowLimit": 10000
     },
     "inputWidgets": {},
     "nuid": "314aabce-82c3-48f2-b0da-2caa5605fd81",
     "showTitle": false,
     "tableResultSettingsMap": {},
     "title": ""
    }
   },
   "outputs": [],
   "source": [
    "df_trans.printSchema()"
   ]
  },
  {
   "cell_type": "code",
   "execution_count": 0,
   "metadata": {
    "application/vnd.databricks.v1+cell": {
     "cellMetadata": {
      "byteLimit": 2048000,
      "rowLimit": 10000
     },
     "inputWidgets": {},
     "nuid": "6727d050-1b13-4641-951c-a188356892d0",
     "showTitle": false,
     "tableResultSettingsMap": {},
     "title": ""
    }
   },
   "outputs": [],
   "source": [
    "colunas_selecionadas = ['account_id', 'event', 'time_since_test_start']\n",
    "\n",
    "df_trans = df_trans.select(\n",
    "    *colunas_selecionadas,\n",
    "    \"value.*\"\n",
    ")"
   ]
  },
  {
   "cell_type": "code",
   "execution_count": 0,
   "metadata": {
    "application/vnd.databricks.v1+cell": {
     "cellMetadata": {
      "byteLimit": 2048000,
      "rowLimit": 10000
     },
     "inputWidgets": {},
     "nuid": "c394ab44-e79d-4c2f-88a2-691437fcd76c",
     "showTitle": false,
     "tableResultSettingsMap": {},
     "title": ""
    }
   },
   "outputs": [],
   "source": [
    "verificar_nulos(df_trans).display()"
   ]
  },
  {
   "cell_type": "markdown",
   "metadata": {
    "application/vnd.databricks.v1+cell": {
     "cellMetadata": {},
     "inputWidgets": {},
     "nuid": "02c293cb-1615-4250-aaa2-50ffa5064351",
     "showTitle": false,
     "tableResultSettingsMap": {},
     "title": ""
    }
   },
   "source": [
    "Temos duas colunas que parecem carregar o mesmo significado, sendo elas `offer id` e `offer_id`, porém percebe-se que a quantidade de dados nulos em cada uma diferente. Vamos verificar essas colunas com mais calma. \n"
   ]
  },
  {
   "cell_type": "code",
   "execution_count": 0,
   "metadata": {
    "application/vnd.databricks.v1+cell": {
     "cellMetadata": {
      "byteLimit": 2048000,
      "rowLimit": 10000
     },
     "inputWidgets": {},
     "nuid": "a1196df5-498c-403e-9600-59a39b3c8ff7",
     "showTitle": false,
     "tableResultSettingsMap": {},
     "title": ""
    }
   },
   "outputs": [],
   "source": [
    "from pyspark.sql import functions as F\n",
    "\n",
    "eh_offerid_nulo = F.col(\"offer id\").isNull()\n",
    "eh_offer_id_nulo = F.col(\"offer_id\").isNull()\n",
    "\n",
    "resumo = df_trans.agg(\n",
    "    F.count('*').alias('total_linhas'),\n",
    "    F.sum(F.when(eh_offerid_nulo & eh_offer_id_nulo, 1).otherwise(0)).alias('ambos_nulos'),\n",
    "    F.sum(F.when(~eh_offerid_nulo & eh_offer_id_nulo, 1).otherwise(0)).alias('apenas_underscore_nulo'),\n",
    "    F.sum(F.when(eh_offerid_nulo & ~eh_offer_id_nulo, 1).otherwise(0)).alias('apenas_espaco_nulo'),\n",
    "    F.sum(F.when(~eh_offerid_nulo & ~eh_offer_id_nulo, 1).otherwise(0)).alias('ambos_nao_nulos')\n",
    "    \n",
    "\n",
    ").first()\n",
    "\n",
    "total_linhas = resumo['total_linhas']\n",
    "ambos_nulos = resumo['ambos_nulos']\n",
    "apenas_underscore_nulo = resumo['apenas_underscore_nulo']\n",
    "apenas_espaco_nulo = resumo['apenas_espaco_nulo']\n",
    "ambos_n_nulos = resumo['ambos_nao_nulos']\n",
    "\n",
    "if total_linhas > 0:\n",
    "    print(\n",
    "        f\"Ambos nulos: {ambos_nulos} / {total_linhas} = {ambos_nulos/total_linhas*100:.2f}%\"\n",
    "    )\n",
    "    print(\n",
    "        f\"Apenas 'offer id' nulo: {apenas_espaco_nulo} / {total_linhas} = {apenas_espaco_nulo/total_linhas*100:.2f}%\"\n",
    "    )\n",
    "    print(\n",
    "        f\"Apenas 'offer_id' nulo: {apenas_underscore_nulo} / {total_linhas} = {apenas_underscore_nulo/total_linhas*100:.2f}%\"\n",
    "    )\n",
    "\n",
    "    print(\n",
    "        f\"Ambos não nulos: {ambos_n_nulos} / {total_linhas} = {ambos_n_nulos/total_linhas*100:.2f}%\"\n",
    "    )\n",
    "else:\n",
    "    print(\"O DataFrame está vazio.\")\n"
   ]
  },
  {
   "cell_type": "markdown",
   "metadata": {
    "application/vnd.databricks.v1+cell": {
     "cellMetadata": {},
     "inputWidgets": {},
     "nuid": "886430f2-c392-451f-a8e3-ddffe684a22f",
     "showTitle": false,
     "tableResultSettingsMap": {},
     "title": ""
    }
   },
   "source": [
    "Observa-se que quase metade dos registros não tem nenhuma informação de oferta associada, esses registros provavelmente são referentes a **eventos de transação normal**, ou seja, compras feitas sem cupons ou ofertas. \n",
    "\n",
    "Era esperado que as colunas `offer id` e `offer_id` fossem duplicadas, mas a análise mostra que não são. \n",
    "\n",
    "* Há casos em que só `offer id` está preenchido (~11%)\n",
    "\n",
    "* E casos em que só `offer_id` está preenchido (~44%)\n",
    "\n",
    "Indicando que os dados de oferta estão espalhados entre as duas colunas. \n",
    "\n",
    "Outra informação que obtemos é que ambos não nulo é 0%, indicando que nunca houve uma linha com os dois preenchidos ao mesmo tempo, uma ou a outra é usada, mas nunca as duas. Vamos unificar essas colunas posteriormente.\n",
    "\n",
    "Outro detalhe que percebemos é que `reward` possui a mesma quantidade de dados nulos que a coluna `offer_id`, indicando que essas duas colunas possuem certa relação. Vamos analisar essa relação. \n",
    "\n"
   ]
  },
  {
   "cell_type": "code",
   "execution_count": 0,
   "metadata": {
    "application/vnd.databricks.v1+cell": {
     "cellMetadata": {
      "byteLimit": 2048000,
      "rowLimit": 10000
     },
     "inputWidgets": {},
     "nuid": "40cee3bb-7871-42f3-836b-e8a3408886d0",
     "showTitle": true,
     "tableResultSettingsMap": {
      "0": {
       "dataGridStateBlob": "{\"version\":1,\"tableState\":{\"columnPinning\":{\"left\":[\"#row_number#\"],\"right\":[]},\"columnSizing\":{\"origem_offer\":224},\"columnVisibility\":{}},\"settings\":{\"columns\":{}},\"syncTimestamp\":1756350784543}",
       "filterBlob": null,
       "queryPlanFiltersBlob": null,
       "tableResultIndex": 0
      }
     },
     "title": "relação entre offer_id e reward"
    }
   },
   "outputs": [],
   "source": [
    "df_trans.select(\n",
    "    F.when(F.col(\"offer id\").isNotNull(), \"tem_offer_id_espaco\")\n",
    "     .when(F.col(\"offer_id\").isNotNull(), \"tem_offer_id_underscore\")\n",
    "     .otherwise(\"sem_offer\").alias(\"origem_offer\"),\n",
    "    F.when(F.col(\"reward\").isNotNull(), 1).otherwise(0).alias(\"tem_reward\")\n",
    ").groupBy(\"origem_offer\").agg(\n",
    "    F.count(\"*\").alias(\"total\"),\n",
    "    F.sum(\"tem_reward\").alias(\"com_reward\")\n",
    ").display()"
   ]
  },
  {
   "cell_type": "markdown",
   "metadata": {
    "application/vnd.databricks.v1+cell": {
     "cellMetadata": {},
     "inputWidgets": {},
     "nuid": "e598e1ba-c303-4d56-9bb0-7ba8e2a6daf9",
     "showTitle": false,
     "tableResultSettingsMap": {},
     "title": ""
    }
   },
   "source": [
    "\n",
    "1. **`tem_offer_id_underscore` (33.579 eventos)**\n",
    "\n",
    "   * Todos esses eventos têm **`offer_id`**.\n",
    "   * E **todos eles têm `reward` associado** (33.579/33.579).\n",
    "     Isso significa que **nessa versão do schema, o campo `reward` foi registrado corretamente**.\n",
    "\n",
    "2. **`tem_offer_id_espaco` (134.002 eventos)**\n",
    "\n",
    "   * Todos têm uma oferta vinculada (`offer id`).\n",
    "   * Mas **nenhum deles tem `reward` preenchido**.\n",
    "     Isso indica que quando a ingestão usou a chave `offer id`, a informação de recompensa não veio junto. **Ou seja, há uma perda de informação.**\n",
    "\n",
    "3. **`sem_offer` (138.953 eventos)**\n",
    "\n",
    "   * Eventos que não têm nenhuma oferta associada.\n",
    "   * Naturalmente não têm `reward`.\n",
    "     Faz sentido, pois são **transações normais**, sem cupom.\n",
    "\n",
    "Isso indica que o campo `reward` só é confiável para as ofertas registras em `offer_id`. As ofertas que vieram de `offer id` ficaram sem `reward`, mesmo quando provavelmente havia uma recompensa. Isso indica uma inconsistência nos dados. Aparentemente duas versões do mesmo campo foram mescladas, mas só uma preservou o reward. \n",
    "\n",
    "Como reward é o valor do desconto recebido, uma abordagem que podemos seguir pegar esse valor de reward diretamente da tabela *offers*.  Lá cada Offer tem um campo de desconto, dessa forma conseguimos recuperar de lá. Faremos isso posteriormente na etapa de unificação das bases. "
   ]
  },
  {
   "cell_type": "code",
   "execution_count": 0,
   "metadata": {
    "application/vnd.databricks.v1+cell": {
     "cellMetadata": {
      "byteLimit": 2048000,
      "rowLimit": 10000
     },
     "inputWidgets": {},
     "nuid": "3630bd5d-320a-4be7-b801-26e0ac538d39",
     "showTitle": true,
     "tableResultSettingsMap": {},
     "title": "Unificando offer id e offer_id"
    }
   },
   "outputs": [],
   "source": [
    "df_trans_final = df_trans.withColumn(\n",
    "    \"offer_id_final\",\n",
    "    F.coalesce(F.col(\"offer_id\"), F.col(\"offer id\"))\n",
    ").drop(\"offer_id\", \"offer id\")"
   ]
  },
  {
   "cell_type": "markdown",
   "metadata": {
    "application/vnd.databricks.v1+cell": {
     "cellMetadata": {},
     "inputWidgets": {},
     "nuid": "9ab0a99e-4967-42b1-b7e2-d16cc41617f6",
     "showTitle": false,
     "tableResultSettingsMap": {},
     "title": ""
    }
   },
   "source": [
    "Vamos verificar quais são as ofertas que aparecem em maior quantidade. "
   ]
  },
  {
   "cell_type": "code",
   "execution_count": 0,
   "metadata": {
    "application/vnd.databricks.v1+cell": {
     "cellMetadata": {
      "byteLimit": 2048000,
      "rowLimit": 10000
     },
     "inputWidgets": {},
     "nuid": "7945727d-d631-4dfb-a809-d8fbe07303ba",
     "showTitle": false,
     "tableResultSettingsMap": {
      "0": {
       "dataGridStateBlob": "{\"version\":1,\"tableState\":{\"columnPinning\":{\"left\":[\"#row_number#\"],\"right\":[]},\"columnSizing\":{},\"columnVisibility\":{}},\"settings\":{\"columns\":{}},\"syncTimestamp\":1756352402950}",
       "filterBlob": null,
       "queryPlanFiltersBlob": null,
       "tableResultIndex": 0
      }
     },
     "title": ""
    }
   },
   "outputs": [
    {
     "output_type": "display_data",
     "data": {
      "text/plain": [
       "Databricks visualization. Run in Databricks to view."
      ]
     },
     "metadata": {
      "application/vnd.databricks.v1.subcommand+json": {
       "baseErrorDetails": null,
       "bindings": {},
       "collapsed": false,
       "command": "%python\n__backend_agg_display_orig = display\n__backend_agg_dfs = []\ndef __backend_agg_display_new(df):\n    __backend_agg_df_modules = [\"pandas.core.frame\", \"databricks.koalas.frame\", \"pyspark.sql.dataframe\", \"pyspark.pandas.frame\", \"pyspark.sql.connect.dataframe\"]\n    if (type(df).__module__ in __backend_agg_df_modules and type(df).__name__ == 'DataFrame') or isinstance(df, list):\n        __backend_agg_dfs.append(df)\n\ndisplay = __backend_agg_display_new\n\ndef __backend_agg_user_code_fn():\n    import base64\n    exec(base64.standard_b64decode(\"ZGZfZHVwbGljYXRhcyA9IGRmX3RyYW5zX2ZpbmFsLmdyb3VwQnkoIm9mZmVyX2lkX2ZpbmFsIikuY291bnQoKS5maWx0ZXIoImNvdW50ID4gMSIpCmRpc3BsYXkoZGZfZHVwbGljYXRhcyk=\").decode())\n\ntry:\n    # run user code\n    __backend_agg_user_code_fn()\n\n    #reset display function\n    display = __backend_agg_display_orig\n\n    if len(__backend_agg_dfs) > 0:\n        # create a temp view\n        if type(__backend_agg_dfs[0]).__module__ == \"databricks.koalas.frame\":\n            # koalas dataframe\n            __backend_agg_dfs[0].to_spark().createOrReplaceTempView(\"DatabricksView1042e7e\")\n        elif type(__backend_agg_dfs[0]).__module__ == \"pandas.core.frame\" or isinstance(__backend_agg_dfs[0], list):\n            # pandas dataframe\n            spark.createDataFrame(__backend_agg_dfs[0]).createOrReplaceTempView(\"DatabricksView1042e7e\")\n        else:\n            __backend_agg_dfs[0].createOrReplaceTempView(\"DatabricksView1042e7e\")\n        #run backend agg\n        display(spark.sql(\"\"\"WITH q AS (select * from DatabricksView1042e7e) SELECT `offer_id_final`,SUM(`count`) `column_b4be0795312` FROM q GROUP BY `offer_id_final`\"\"\"))\n    else:\n        displayHTML(\"dataframe no longer exists. If you're using dataframe.display(), use display(dataframe) instead.\")\n\n\nfinally:\n    spark.sql(\"drop view if exists DatabricksView1042e7e\")\n    display = __backend_agg_display_orig\n    del __backend_agg_display_new\n    del __backend_agg_display_orig\n    del __backend_agg_dfs\n    del __backend_agg_user_code_fn\n\n",
       "commandTitle": "Contagem de ocorrencia das ofertas",
       "commandType": "auto",
       "commandVersion": 0,
       "commentThread": [],
       "commentsVisible": false,
       "contentSha256Hex": null,
       "customPlotOptions": {
        "redashChart": [
         {
          "key": "type",
          "value": "CHART"
         },
         {
          "key": "options",
          "value": {
           "alignYAxesAtZero": true,
           "coefficient": 1,
           "columnConfigurationMap": {
            "x": {
             "column": "offer_id_final",
             "id": "column_b4be0795311"
            },
            "y": [
             {
              "column": "count",
              "id": "column_b4be0795312",
              "transform": "SUM"
             }
            ]
           },
           "dateTimeFormat": "DD/MM/YYYY HH:mm",
           "direction": {
            "type": "counterclockwise"
           },
           "error_y": {
            "type": "data",
            "visible": true
           },
           "globalSeriesType": "column",
           "isAggregationOn": true,
           "legend": {
            "traceorder": "normal"
           },
           "missingValuesAsZero": true,
           "numberFormat": "0,0.[00000]",
           "percentFormat": "0[.]00%",
           "series": {
            "error_y": {
             "type": "data",
             "visible": true
            },
            "stacking": null
           },
           "seriesOptions": {
            "column_b4be0795312": {
             "color": "#AB4057",
             "name": "Quantidade utilizada",
             "yAxis": 0
            }
           },
           "showDataLabels": false,
           "sizemode": "diameter",
           "sortX": true,
           "sortY": true,
           "swappedAxes": true,
           "textFormat": "",
           "useAggregationsUi": true,
           "valuesOptions": {},
           "version": 2,
           "xAxis": {
            "labels": {
             "enabled": true
            },
            "title": {
             "text": "ID da oferta"
            },
            "type": "category"
           },
           "yAxis": [
            {
             "title": {
              "text": "Contagem"
             },
             "type": "-"
            },
            {
             "opposite": true,
             "type": "-"
            }
           ]
          }
         }
        ]
       },
       "datasetPreviewNameToCmdIdMap": {},
       "diffDeletes": [],
       "diffInserts": [],
       "displayType": "redashChart",
       "error": null,
       "errorDetails": null,
       "errorSummary": null,
       "errorTraceType": null,
       "finishTime": 0,
       "globalVars": {},
       "guid": "",
       "height": "auto",
       "hideCommandCode": false,
       "hideCommandResult": false,
       "iPythonMetadata": null,
       "inputWidgets": {},
       "isLockedInExamMode": false,
       "latestUser": "a user",
       "latestUserId": null,
       "listResultMetadata": null,
       "metadata": {},
       "nuid": "e43dc7eb-3d28-474b-87cc-d699e792b195",
       "origId": 0,
       "parentHierarchy": [],
       "pivotAggregation": null,
       "pivotColumns": null,
       "position": 103.6242446899414,
       "resultDbfsErrorMessage": null,
       "resultDbfsStatus": "INLINED_IN_TREE",
       "results": null,
       "showCommandTitle": false,
       "startTime": 0,
       "state": "input",
       "streamStates": {},
       "subcommandOptions": {
        "queryPlan": {
         "groups": [
          {
           "column": "offer_id_final",
           "type": "column"
          }
         ],
         "selects": [
          {
           "column": "offer_id_final",
           "type": "column"
          },
          {
           "alias": "column_b4be0795312",
           "args": [
            {
             "column": "count",
             "type": "column"
            }
           ],
           "function": "SUM",
           "type": "function"
          }
         ]
        }
       },
       "submitTime": 0,
       "subtype": "tableResultSubCmd.visualization",
       "tableResultIndex": 0,
       "tableResultSettingsMap": {},
       "useConsistentColors": false,
       "version": "CommandV1",
       "width": "auto",
       "workflows": null,
       "xColumns": null,
       "yColumns": null
      }
     },
     "output_type": "display_data"
    }
   ],
   "source": [
    "df_duplicatas = df_trans_final.groupBy(\"offer_id_final\").count()\n",
    "display(df_duplicatas)"
   ]
  },
  {
   "cell_type": "code",
   "execution_count": 0,
   "metadata": {
    "application/vnd.databricks.v1+cell": {
     "cellMetadata": {
      "byteLimit": 2048000,
      "rowLimit": 10000
     },
     "inputWidgets": {},
     "nuid": "6b5cfcdd-ea96-498d-bb2a-9642e174d879",
     "showTitle": false,
     "tableResultSettingsMap": {},
     "title": ""
    }
   },
   "outputs": [],
   "source": [
    "df_trans_final.write.mode(\"overwrite\").saveAsTable(\"workspace.processed.transactions_processed\")"
   ]
  },
  {
   "cell_type": "markdown",
   "metadata": {
    "application/vnd.databricks.v1+cell": {
     "cellMetadata": {},
     "inputWidgets": {},
     "nuid": "97c46e6a-9a11-4493-8227-96fa50b2341c",
     "showTitle": false,
     "tableResultSettingsMap": {},
     "title": ""
    }
   },
   "source": [
    "## Preparação de dataset unificado"
   ]
  },
  {
   "cell_type": "code",
   "execution_count": 0,
   "metadata": {
    "application/vnd.databricks.v1+cell": {
     "cellMetadata": {
      "byteLimit": 2048000,
      "rowLimit": 10000
     },
     "inputWidgets": {},
     "nuid": "c8b8f175-e45c-4300-9e41-d2c5e238066f",
     "showTitle": true,
     "tableResultSettingsMap": {},
     "title": "unificando as bases de dados"
    }
   },
   "outputs": [],
   "source": [
    "df_join = (\n",
    "    df_trans_final.alias(\"t\")\n",
    "    .join(df_profile.alias(\"p\"), F.col(\"t.account_id\") == F.col(\"p.id\"), \"inner\")\n",
    "    .join(df_offers.alias(\"o\"), F.col(\"t.offer_id_final\") == F.col(\"o.id\"), \"left\")\n",
    "    .drop(\"id\")\n",
    ")\n"
   ]
  },
  {
   "cell_type": "code",
   "execution_count": 0,
   "metadata": {
    "application/vnd.databricks.v1+cell": {
     "cellMetadata": {
      "byteLimit": 2048000,
      "rowLimit": 10000
     },
     "inputWidgets": {},
     "nuid": "340c2a38-3f65-4884-bd17-a10aadc220b3",
     "showTitle": false,
     "tableResultSettingsMap": {
      "0": {
       "dataGridStateBlob": "{\"version\":1,\"tableState\":{\"columnPinning\":{\"left\":[\"#row_number#\"],\"right\":[]},\"columnSizing\":{},\"columnVisibility\":{}},\"settings\":{\"columns\":{}},\"syncTimestamp\":1756356137372}",
       "filterBlob": null,
       "queryPlanFiltersBlob": null,
       "tableResultIndex": 0
      }
     },
     "title": ""
    }
   },
   "outputs": [],
   "source": [
    "df_join.display()"
   ]
  },
  {
   "cell_type": "code",
   "execution_count": 0,
   "metadata": {
    "application/vnd.databricks.v1+cell": {
     "cellMetadata": {
      "byteLimit": 2048000,
      "rowLimit": 10000
     },
     "inputWidgets": {},
     "nuid": "636a34fe-102f-4a8d-95e9-32221b0894bb",
     "showTitle": false,
     "tableResultSettingsMap": {},
     "title": ""
    }
   },
   "outputs": [],
   "source": [
    "print(f\"Quantidade de linhas antes de join: {df_trans_final.count()}\")\n",
    "print(f\"Quantidade de linhas depois de join: {df_join.count()}\")"
   ]
  },
  {
   "cell_type": "markdown",
   "metadata": {
    "application/vnd.databricks.v1+cell": {
     "cellMetadata": {},
     "inputWidgets": {},
     "nuid": "84ca4624-978e-4920-95d2-e4e6e096a24e",
     "showTitle": false,
     "tableResultSettingsMap": {},
     "title": ""
    }
   },
   "source": [
    "Ou seja não houve perda de dados"
   ]
  },
  {
   "cell_type": "code",
   "execution_count": 0,
   "metadata": {
    "application/vnd.databricks.v1+cell": {
     "cellMetadata": {
      "byteLimit": 2048000,
      "rowLimit": 10000
     },
     "inputWidgets": {},
     "nuid": "a54f4edc-d028-489a-be5c-36e18bd986d2",
     "showTitle": false,
     "tableResultSettingsMap": {
      "0": {
       "dataGridStateBlob": "{\"version\":1,\"tableState\":{\"columnPinning\":{\"left\":[\"#row_number#\"],\"right\":[]},\"columnSizing\":{},\"columnVisibility\":{\"#row_number#\":true,\"account_id\":false,\"event\":false,\"time_since_test_start\":false,\"amount\":false,\"reward\":true,\"offer_id_final\":false,\"age\":false,\"credit_card_limit\":false,\"gender\":false,\"id\":false,\"registered_on\":false,\"channels\":false,\"discount_value\":true,\"duration\":false,\"id1\":false,\"min_value\":false,\"offer_type\":false}},\"settings\":{\"columns\":{}},\"syncTimestamp\":1756355649620}",
       "filterBlob": null,
       "queryPlanFiltersBlob": null,
       "tableResultIndex": 0
      }
     },
     "title": ""
    }
   },
   "outputs": [],
   "source": [
    "df_join.filter(\n",
    "    (F.col(\"reward\").isNotNull()) & (F.col(\"reward\") != F.col(\"discount_value\"))\n",
    ").display()\n"
   ]
  },
  {
   "cell_type": "markdown",
   "metadata": {
    "application/vnd.databricks.v1+cell": {
     "cellMetadata": {},
     "inputWidgets": {},
     "nuid": "c88ff0ad-f3bf-44a3-bca0-bec9a50b3f5b",
     "showTitle": false,
     "tableResultSettingsMap": {},
     "title": ""
    }
   },
   "source": [
    "Como mencionado acima, o valor de `reward` é valor do disconto, portando podemos deixar somente a coluna `discount_value`"
   ]
  },
  {
   "cell_type": "code",
   "execution_count": 0,
   "metadata": {
    "application/vnd.databricks.v1+cell": {
     "cellMetadata": {
      "byteLimit": 2048000,
      "rowLimit": 10000
     },
     "inputWidgets": {},
     "nuid": "26485cc6-e721-4511-a30b-b25e85ffb73b",
     "showTitle": false,
     "tableResultSettingsMap": {},
     "title": ""
    }
   },
   "outputs": [],
   "source": [
    "df_join = df_join.drop('reward')"
   ]
  },
  {
   "cell_type": "code",
   "execution_count": 0,
   "metadata": {
    "application/vnd.databricks.v1+cell": {
     "cellMetadata": {
      "byteLimit": 2048000,
      "rowLimit": 10000
     },
     "inputWidgets": {},
     "nuid": "d8814962-ebd8-4bf2-92e4-7cb907ac59e7",
     "showTitle": false,
     "tableResultSettingsMap": {
      "0": {
       "dataGridStateBlob": "{\"version\":1,\"tableState\":{\"columnPinning\":{\"left\":[\"#row_number#\"],\"right\":[]},\"columnSizing\":{},\"columnVisibility\":{}},\"settings\":{\"columns\":{}},\"syncTimestamp\":1756357531628}",
       "filterBlob": null,
       "queryPlanFiltersBlob": null,
       "tableResultIndex": 0
      }
     },
     "title": ""
    }
   },
   "outputs": [],
   "source": [
    "df_join.groupBy(\"time_since_test_start\").count().display()"
   ]
  }
 ],
 "metadata": {
  "application/vnd.databricks.v1+notebook": {
   "computePreferences": {
    "hardware": {
     "accelerator": null,
     "gpuPoolId": null,
     "memory": null
    }
   },
   "dashboards": [],
   "environmentMetadata": {
    "base_environment": "",
    "environment_version": "3"
   },
   "inputWidgetPreferences": null,
   "language": "python",
   "notebookMetadata": {
    "mostRecentlyExecutedCommandWithImplicitDF": {
     "commandId": 5163530046446897,
     "dataframes": [
      "_sqldf"
     ]
    },
    "pythonIndentUnit": 4
   },
   "notebookName": "1_data_processing",
   "widgets": {}
  },
  "language_info": {
   "name": "python"
  }
 },
 "nbformat": 4,
 "nbformat_minor": 0
}
