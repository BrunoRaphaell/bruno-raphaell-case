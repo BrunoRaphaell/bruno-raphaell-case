{
 "cells": [
  {
   "cell_type": "markdown",
   "metadata": {
    "application/vnd.databricks.v1+cell": {
     "cellMetadata": {},
     "inputWidgets": {},
     "nuid": "b9c42ad5-3d8f-4c6e-83dd-391a1c3c4e93",
     "showTitle": false,
     "tableResultSettingsMap": {},
     "title": ""
    }
   },
   "source": [
    "# Medindo retorno"
   ]
  },
  {
   "cell_type": "markdown",
   "metadata": {
    "application/vnd.databricks.v1+cell": {
     "cellMetadata": {},
     "inputWidgets": {},
     "nuid": "e115bc63-2f01-4e1d-a561-7223c10de091",
     "showTitle": false,
     "tableResultSettingsMap": {},
     "title": ""
    }
   },
   "source": [
    "Já treinamos nosso modelo, avaliamos dentre as opções qual melhor se saiu. Agora é hora de mensurar a expectativa de retorno. Para isso vamos simular 2 estratégias:\n",
    "\n",
    "* Estratégia 1 (Modelo de ML): Para cada cliente, o modelo previu a probabilidade de aceite para todas as ofertas disponíveis e selecionou apenas a oferta com a maior probabilidade.\n",
    "\n",
    "* Estratégia 2 (Aleatória): Para cada cliente, uma oferta foi sorteada ao acaso.\n",
    "\n",
    "Para cada estratégia, vamos buscar no histórico de dados o valor que os clientes realmente gastaram (`valor_gasto_na_jornada`) quando receberam a oferta selecionada. O \"Impacto Financeiro\" que será mostrado no gráfico é a soma total desses valores para cada uma das duas estratégias."
   ]
  },
  {
   "cell_type": "code",
   "execution_count": 0,
   "metadata": {
    "application/vnd.databricks.v1+cell": {
     "cellMetadata": {
      "byteLimit": 2048000,
      "rowLimit": 10000
     },
     "inputWidgets": {},
     "nuid": "6389e15c-20b7-4979-8e81-1b26c88ec29b",
     "showTitle": false,
     "tableResultSettingsMap": {},
     "title": ""
    }
   },
   "outputs": [],
   "source": [
    "import mlflow\n",
    "import numpy as np\n",
    "import pandas as pd\n",
    "import matplotlib.pyplot as plt\n",
    "import seaborn as sns"
   ]
  },
  {
   "cell_type": "code",
   "execution_count": 0,
   "metadata": {
    "application/vnd.databricks.v1+cell": {
     "cellMetadata": {
      "byteLimit": 2048000,
      "rowLimit": 10000
     },
     "inputWidgets": {},
     "nuid": "05dbc5dd-34ca-49b9-9a96-fb8e63837cc7",
     "showTitle": true,
     "tableResultSettingsMap": {},
     "title": "Constantes"
    }
   },
   "outputs": [],
   "source": [
    "PATH_BASE_PROCESSADA = 'workspace.processed.base_processada'\n",
    "PATH_MODELO = \"models:/workspace.modelos_ml.ModeloOferta_RandomForest@producao\""
   ]
  },
  {
   "cell_type": "code",
   "execution_count": 0,
   "metadata": {
    "application/vnd.databricks.v1+cell": {
     "cellMetadata": {
      "byteLimit": 2048000,
      "rowLimit": 10000
     },
     "inputWidgets": {},
     "nuid": "f18c316f-9ff0-4311-a75b-2f8bf10baa6f",
     "showTitle": true,
     "tableResultSettingsMap": {},
     "title": "Carregando o modelo"
    }
   },
   "outputs": [],
   "source": [
    "print(f\"Carregando modelo: {PATH_MODELO}\")\n",
    "load_model = mlflow.sklearn.load_model(PATH_MODELO)\n",
    "print(\"Modelo carregado!\")"
   ]
  },
  {
   "cell_type": "code",
   "execution_count": 0,
   "metadata": {
    "application/vnd.databricks.v1+cell": {
     "cellMetadata": {
      "byteLimit": 2048000,
      "rowLimit": 10000
     },
     "inputWidgets": {},
     "nuid": "da4135f4-587a-4712-837c-1bf0a4f6d27d",
     "showTitle": true,
     "tableResultSettingsMap": {},
     "title": "Lendo a base de dados"
    }
   },
   "outputs": [],
   "source": [
    "dados = spark.table(PATH_BASE_PROCESSADA).toPandas()"
   ]
  },
  {
   "cell_type": "code",
   "execution_count": 0,
   "metadata": {
    "application/vnd.databricks.v1+cell": {
     "cellMetadata": {
      "byteLimit": 2048000,
      "rowLimit": 10000
     },
     "inputWidgets": {},
     "nuid": "2dbe8659-e209-4327-9e60-693b6908535d",
     "showTitle": true,
     "tableResultSettingsMap": {},
     "title": "Definindo a base de dados"
    }
   },
   "outputs": [],
   "source": [
    "# Lista de colunas a descartar\n",
    "cols_drop = [\n",
    "    \"account_id\", \"offer_id_final\", \"offer_received\", \"offer_viewed\",\n",
    "    \"valor_gasto_na_jornada\", \"qtd_transacoes_na_jornada\",\n",
    "    \"ticket_medio_na_jornada\", \"registered_on\", \"channels\"\n",
    "]\n",
    "\n",
    "# Separação entre features e target\n",
    "X = dados.drop(columns=[\"target\"], errors=\"ignore\")\n",
    "y = dados[\"target\"]\n",
    "\n",
    "# Removendo colunas não desejadas\n",
    "X = X.drop(columns=cols_drop, errors=\"ignore\")\n"
   ]
  },
  {
   "cell_type": "code",
   "execution_count": 0,
   "metadata": {
    "application/vnd.databricks.v1+cell": {
     "cellMetadata": {
      "byteLimit": 2048000,
      "rowLimit": 10000
     },
     "inputWidgets": {},
     "nuid": "41e7baec-13f1-48f2-a74f-144a1be53778",
     "showTitle": false,
     "tableResultSettingsMap": {},
     "title": ""
    }
   },
   "outputs": [],
   "source": [
    "customer_features = ['account_id', 'age', 'credit_card_limit', 'gender', 'tempo_de_registro', 'receive_time']\n",
    "offer_features = [\n",
    "    'offer_id_final', 'discount_value', 'duration', 'min_value', 'offer_type',\n",
    "    'categoria_duracao', 'num_channels', 'email', 'mobile', 'social', 'web'\n",
    "]"
   ]
  },
  {
   "cell_type": "code",
   "execution_count": 0,
   "metadata": {
    "application/vnd.databricks.v1+cell": {
     "cellMetadata": {
      "byteLimit": 2048000,
      "rowLimit": 10000
     },
     "inputWidgets": {},
     "nuid": "805f168a-6015-4b34-a739-f23512d17bca",
     "showTitle": false,
     "tableResultSettingsMap": {},
     "title": ""
    }
   },
   "outputs": [],
   "source": [
    "# Obter ofertas únicas\n",
    "dados_ofertas = dados.drop_duplicates(subset='offer_id_final')[offer_features].reset_index(drop=True)\n",
    "\n",
    "# Selecionar uma amostra de clientes únicos para a simulação\n",
    "clientes_simulacao = dados.drop_duplicates(subset='account_id')[customer_features].reset_index(drop=True)"
   ]
  },
  {
   "cell_type": "code",
   "execution_count": 0,
   "metadata": {
    "application/vnd.databricks.v1+cell": {
     "cellMetadata": {
      "byteLimit": 2048000,
      "rowLimit": 10000
     },
     "inputWidgets": {},
     "nuid": "2083082b-2c02-473c-86ef-6983efc8ca62",
     "showTitle": true,
     "tableResultSettingsMap": {},
     "title": "Simulando estratégia com modelo"
    }
   },
   "outputs": [],
   "source": [
    "resultados_modelo = []\n",
    "for _, cliente in clientes_simulacao.iterrows():\n",
    "    df_cliente_unic = pd.DataFrame([cliente.drop('account_id').to_dict()])\n",
    "    df_scoring = df_cliente_unic.merge(dados_ofertas.drop('offer_id_final', axis=1), how='cross')\n",
    "    \n",
    "    probabilidades = load_model.predict_proba(df_scoring)[:, 1]\n",
    "    melhor_oferta_idx = np.argmax(probabilidades)\n",
    "    oferta_escolhida_id = dados_ofertas.iloc[melhor_oferta_idx]['offer_id_final']\n",
    "    \n",
    "    resultado_real = dados[(dados['account_id'] == cliente['account_id']) & (dados['offer_id_final'] == oferta_escolhida_id)]\n",
    "    if not resultado_real.empty:\n",
    "        resultados_modelo.append(resultado_real.iloc[0]['valor_gasto_na_jornada'])"
   ]
  },
  {
   "cell_type": "code",
   "execution_count": 0,
   "metadata": {
    "application/vnd.databricks.v1+cell": {
     "cellMetadata": {
      "byteLimit": 2048000,
      "rowLimit": 10000
     },
     "inputWidgets": {},
     "nuid": "7751956b-105c-4507-9ec6-344031dd8dcb",
     "showTitle": true,
     "tableResultSettingsMap": {},
     "title": "Simulando estratégia aleatória"
    }
   },
   "outputs": [],
   "source": [
    "resultados_aleatorio = []\n",
    "for _, cliente in clientes_simulacao.iterrows():\n",
    "    oferta_aleatoria_id = dados_ofertas.sample(1).iloc[0]['offer_id_final']\n",
    "    resultado_real = dados[(dados['account_id'] == cliente['account_id']) & (dados['offer_id_final'] == oferta_aleatoria_id)]\n",
    "    if not resultado_real.empty:\n",
    "        resultados_aleatorio.append(resultado_real.iloc[0]['valor_gasto_na_jornada'])\n"
   ]
  },
  {
   "cell_type": "code",
   "execution_count": 0,
   "metadata": {
    "application/vnd.databricks.v1+cell": {
     "cellMetadata": {
      "byteLimit": 2048000,
      "rowLimit": 10000
     },
     "inputWidgets": {},
     "nuid": "d0b2ffd5-99b7-4b4a-b582-305ac59e4d95",
     "showTitle": false,
     "tableResultSettingsMap": {},
     "title": ""
    }
   },
   "outputs": [],
   "source": [
    "# Calcular o impacto total\n",
    "impacto_modelo = np.sum(resultados_modelo)\n",
    "impacto_aleatorio = np.sum(resultados_aleatorio)\n"
   ]
  },
  {
   "cell_type": "code",
   "execution_count": 0,
   "metadata": {
    "application/vnd.databricks.v1+cell": {
     "cellMetadata": {
      "byteLimit": 2048000,
      "rowLimit": 10000
     },
     "inputWidgets": {},
     "nuid": "0f2d97b2-1627-4bbb-a6d7-7f8b79e4cecd",
     "showTitle": false,
     "tableResultSettingsMap": {},
     "title": ""
    }
   },
   "outputs": [],
   "source": [
    "print(f\"Modelo: {impacto_modelo}\")\n",
    "print(f\"Aleatório: {impacto_aleatorio}\")"
   ]
  },
  {
   "cell_type": "code",
   "execution_count": 0,
   "metadata": {
    "application/vnd.databricks.v1+cell": {
     "cellMetadata": {
      "byteLimit": 2048000,
      "rowLimit": 10000
     },
     "inputWidgets": {},
     "nuid": "3873afe9-5f74-4045-a6d2-b34cd167603c",
     "showTitle": false,
     "tableResultSettingsMap": {},
     "title": ""
    }
   },
   "outputs": [],
   "source": [
    "minhas_cores = [\n",
    "    '#FE3054', # vermelho vibrante\n",
    "    '#F94EB6', # rosa choque\n",
    "    '#FFB020', # amarelo ouro\n",
    "    '#FA781A', # laranja intenso\n",
    "    '#FEF6C8', # bege claro\n",
    "    '#06516E', # azul petróleo\n",
    "    '#06987B', # verde esmeralda\n",
    "    '#260607'  # vinho quase preto\n",
    "]\n",
    "\n",
    "minha_paleta = sns.color_palette(minhas_cores)\n",
    "\n",
    "sns.palplot(minha_paleta)\n",
    "plt.title(\"Minha Paleta Personalizada\")\n",
    "plt.show()\n",
    "\n",
    "sns.set_palette(minha_paleta)"
   ]
  },
  {
   "cell_type": "code",
   "execution_count": 0,
   "metadata": {
    "application/vnd.databricks.v1+cell": {
     "cellMetadata": {
      "byteLimit": 2048000,
      "rowLimit": 10000
     },
     "inputWidgets": {},
     "nuid": "c8f17426-5f57-4a01-9572-532a384af444",
     "showTitle": true,
     "tableResultSettingsMap": {},
     "title": "Gerando gráfico"
    }
   },
   "outputs": [],
   "source": [
    "# Preparar dados para o gráfico\n",
    "dados_grafico = pd.DataFrame({\n",
    "    'Estratégia': ['Modelo de ML', 'Aleatória'],\n",
    "    'Impacto Financeiro (R$)': [impacto_modelo, impacto_aleatorio]\n",
    "}).sort_values('Impacto Financeiro (R$)', ascending=False)\n",
    "\n",
    "plt.figure(figsize=(10, 6))\n",
    "barplot = sns.barplot(x='Estratégia', y='Impacto Financeiro (R$)', data=dados_grafico, hue='Estratégia')\n",
    "for p in barplot.patches:\n",
    "    barplot.annotate(f'R$ {p.get_height():,.2f}', \n",
    "                     (p.get_x() + p.get_width() / 2., p.get_height()), \n",
    "                     ha='center', va='center', \n",
    "                     xytext=(0, 9), \n",
    "                     textcoords='offset points')\n",
    "\n",
    "plt.title('Comparativo de Impacto Financeiro por Estratégia de Envio de Oferta', fontsize=16)\n",
    "plt.xlabel('Estratégia', fontsize=12)\n",
    "plt.ylabel('Valor Gasto Total Simulado (R$)', fontsize=12)\n",
    "plt.tight_layout()\n",
    "plt.savefig('impacto_financeiro.png')\n"
   ]
  },
  {
   "cell_type": "markdown",
   "metadata": {
    "application/vnd.databricks.v1+cell": {
     "cellMetadata": {},
     "inputWidgets": {},
     "nuid": "a11b4f76-0613-43f0-90ad-6a7503d420ed",
     "showTitle": false,
     "tableResultSettingsMap": {},
     "title": ""
    }
   },
   "source": [
    "O gráfico mostra que a personalização impulsionada por Machine Learning capaz de identificar a melhor oferta para determinado usuário/cliente gera um valor de negócio muito superior à abordagem aleatória. A capacidade do modelo de discernir qual oferta é mais adequada para cada perfil de cliente resultou em um impacto financeiro simulado 38% maior que e distribuição aleatória, justificando sua implementação."
   ]
  }
 ],
 "metadata": {
  "application/vnd.databricks.v1+notebook": {
   "computePreferences": null,
   "dashboards": [],
   "environmentMetadata": {
    "base_environment": "",
    "environment_version": "3"
   },
   "inputWidgetPreferences": null,
   "language": "python",
   "notebookMetadata": {
    "pythonIndentUnit": 4
   },
   "notebookName": "3_medindo_impacto",
   "widgets": {}
  },
  "language_info": {
   "name": "python"
  }
 },
 "nbformat": 4,
 "nbformat_minor": 0
}
